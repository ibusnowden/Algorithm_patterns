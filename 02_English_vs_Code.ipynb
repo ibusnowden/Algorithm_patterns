{
 "cells": [
  {
   "cell_type": "markdown",
   "id": "74aa169e-41f5-4209-9a8f-0afd06db718a",
   "metadata": {},
   "source": [
    "# English vs Code"
   ]
  },
  {
   "cell_type": "markdown",
   "id": "5b3915d7-c3aa-45dc-887e-7f68be422fd8",
   "metadata": {},
   "source": [
    "The ability to explain code in English is incredibly valuable for several important reasons:\n",
    "\n",
    "- **Communication and Collaboration**\n",
    "When working on teams, you need to discuss technical decisions, propose solutions, and get buy-in from colleagues. \n",
    "\n",
    "- **Problem-Solving and Design**\n",
    "Explaining code forces you to think clearly about what you're building. \n",
    "\n",
    "- **Stakeholder Communication**\n",
    "You frequently need to explain technical concepts to non-technical stakeholders like product managers, designers, or executives. "
   ]
  },
  {
   "cell_type": "markdown",
   "id": "5f1d03ed-71a3-4e7d-9963-bd6e93bed472",
   "metadata": {},
   "source": [
    "\n",
    "### Explain Control Flow Naturally\n",
    "```python\n",
    "# Code\n",
    "if balance > 0:\n",
    "    return \"positive\"\n",
    "elif balance < 0:\n",
    "    return \"negative\"\n",
    "else:\n",
    "    return \"zero\"\n",
    "\n",
    "# Good English\n",
    "\"Check if the balance is positive, negative, or zero, then return the appropriate status\"\n",
    "\n",
    "```\n",
    "\n",
    "### Translate Data Structures Conceptually\n",
    "```python\n",
    "# Code\n",
    "student_grades = {\"Alice\": 92, \"Bob\": 78, \"Carol\": 95}\n",
    "\n",
    "# Good English\n",
    "\"Store each student's grade, where we can look up any student's score by their name\"\n",
    "\n",
    "```\n",
    "\n",
    "### Focus on Intent Over Syntax\n",
    "```python\n",
    "# Code\n",
    "for i in range(len(items)):\n",
    "    process(items[i])\n",
    "\n",
    "# Good English\n",
    "\"Go through each item in the list and process it\"\n",
    "\n",
    "```\n"
   ]
  },
  {
   "cell_type": "code",
   "execution_count": 11,
   "id": "6a0e7c2b-6d0d-41b7-95c1-f6672b15de52",
   "metadata": {},
   "outputs": [],
   "source": [
    "student_grades = {\"Alice\": 92, \"Bob\": 78, \"Carol\": 95}"
   ]
  },
  {
   "cell_type": "code",
   "execution_count": 12,
   "id": "3b5a5dd9-2128-42ff-b10d-0760ed5d07f9",
   "metadata": {},
   "outputs": [
    {
     "name": "stdout",
     "output_type": "stream",
     "text": [
      "Alice's grade is: 92\n",
      "Bob's grade is: 78\n",
      "Carol's grade is: 95\n"
     ]
    }
   ],
   "source": [
    "for i, m in student_grades.items():\n",
    "    print(f\"{i}'s grade is: {m}\")"
   ]
  },
  {
   "cell_type": "code",
   "execution_count": 16,
   "id": "42bea63b-32d5-4340-91d8-d4dee64c688b",
   "metadata": {},
   "outputs": [
    {
     "name": "stdout",
     "output_type": "stream",
     "text": [
      "Alice 92\n",
      "Bob 78\n",
      "Carol 95\n"
     ]
    }
   ],
   "source": [
    "for a , b in enumerate(student_grades):\n",
    "    print(b, student_grades[b])"
   ]
  },
  {
   "cell_type": "code",
   "execution_count": null,
   "id": "62001624-ddc4-4786-8e50-35f4ccb6bab1",
   "metadata": {},
   "outputs": [],
   "source": []
  },
  {
   "cell_type": "code",
   "execution_count": null,
   "id": "154f74d3-fc2f-4793-94b9-4aae3c0c4e0d",
   "metadata": {},
   "outputs": [],
   "source": []
  }
 ],
 "metadata": {
  "kernelspec": {
   "display_name": "Python 3 (ipykernel)",
   "language": "python",
   "name": "python3"
  },
  "language_info": {
   "codemirror_mode": {
    "name": "ipython",
    "version": 3
   },
   "file_extension": ".py",
   "mimetype": "text/x-python",
   "name": "python",
   "nbconvert_exporter": "python",
   "pygments_lexer": "ipython3",
   "version": "3.13.1"
  }
 },
 "nbformat": 4,
 "nbformat_minor": 5
}
