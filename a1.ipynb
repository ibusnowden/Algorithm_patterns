{
 "cells": [
  {
   "cell_type": "markdown",
   "metadata": {},
   "source": [
    "# COMP 4030/6030- Assignment 1\n",
    "**Due: 09/09/2025**\n",
    "\n",
    "**Instructions**: Complete all problems in this notebook. Make sure to test your code and include clear explanations where requested.  You must do this problem by yourself.  You cannot get help from other people or AI.  If you do, the penalty is a zero for the assignment, and you will be reported to the department and the Office of Student Accountability\n",
    "\n",
    "---\n",
    "\n",
    "**Write your name here**: Ibra Niang\n",
    "\n",
    "\n"
   ]
  },
  {
   "cell_type": "markdown",
   "metadata": {},
   "source": [
    "## Setup\n",
    "Run this cell first to import the data generator and define the helper functions."
   ]
  },
  {
   "cell_type": "code",
   "execution_count": 1,
   "metadata": {},
   "outputs": [],
   "source": [
    "# Helper functions from lecture\n",
    "\n",
    "from data_generator import generate_numbers, generate_students, generate_products, generate_sentences\n",
    "\n",
    "\n"
   ]
  },
  {
   "cell_type": "markdown",
   "metadata": {},
   "source": [
    "---\n",
    "## Part 1: English-to-Code Translation\n",
    "\n",
    "For each problem below, translate the English description into working Python code. First identify the key actions, nouns, and conditions, then write your solution."
   ]
  },
  {
   "cell_type": "markdown",
   "metadata": {},
   "source": [
    "### Problem 1.1 (5 points)\n",
    "**Task**: Find all numbers that are even and positive.\n",
    "\n",
    "Generate a list of 20 random numbers using `generate_numbers(20)`, then write code to find all numbers that are both even and positive. Display your results."
   ]
  },
  {
   "cell_type": "code",
   "execution_count": 2,
   "metadata": {},
   "outputs": [
    {
     "name": "stdout",
     "output_type": "stream",
     "text": [
      "[88, 8]\n"
     ]
    }
   ],
   "source": [
    "# Your solution here\n",
    "numbers = generate_numbers(20)\n",
    "rs = []\n",
    "for i in numbers:\n",
    "    if i > 0 and i % 2 == 0:\n",
    "        rs.append(i)\n",
    "\n",
    "print(rs)\n"
   ]
  },
  {
   "cell_type": "markdown",
   "metadata": {},
   "source": [
    "### Problem 1.2 (5 points)\n",
    "**Task**: Get all students who are 20 years old or younger.\n",
    "\n",
    "Generate a list of 25 students using `generate_students(25)`, then write code to find all students whose age is 20 or less. Display the results showing each student's name and age."
   ]
  },
  {
   "cell_type": "code",
   "execution_count": 3,
   "metadata": {},
   "outputs": [
    {
     "name": "stdout",
     "output_type": "stream",
     "text": [
      "Diana Jones 18\n",
      "Frank Smith 19\n",
      "Bob Brown 19\n",
      "Diana Garcia 19\n",
      "Eve Garcia 19\n",
      "Frank Miller 18\n",
      "Bob Johnson 20\n",
      "Eve Jones 18\n",
      "Frank Miller 20\n",
      "Frank Brown 18\n",
      "Eve Johnson 18\n"
     ]
    }
   ],
   "source": [
    "# Your solution here\n",
    "students = generate_students(25)\n",
    "\n",
    "for n in students:\n",
    "    if n.age <= 20:\n",
    "        print(n.name, n.age)\n",
    "\n",
    "\n",
    "\n"
   ]
  },
  {
   "cell_type": "markdown",
   "metadata": {},
   "source": [
    "### Problem 1.3 (5 points)\n",
    "**Task**: Select all products in the 'Electronics' category.\n",
    "\n",
    "Generate a list of 20 products using `generate_products(20)`, then write code to find all products that belong to the 'Electronics' category. Display the product names and prices."
   ]
  },
  {
   "cell_type": "code",
   "execution_count": 4,
   "metadata": {},
   "outputs": [
    {
     "name": "stdout",
     "output_type": "stream",
     "text": [
      "Premium Laptop 240.84\n",
      "Power Tablet 1288.02\n",
      "Pro Laptop 1225.78\n",
      "Mini Watch 664.82\n",
      "Mini Phone 593.99\n",
      "Pro Camera 2589.59\n"
     ]
    }
   ],
   "source": [
    "# Your solution here\n",
    "products = generate_products(20)\n",
    "\n",
    "for p in products:\n",
    "    if p.category == 'Electronics':\n",
    "        print(p.name, p.price)\n"
   ]
  },
  {
   "cell_type": "markdown",
   "metadata": {},
   "source": [
    "### Problem 1.4 (5 points)\n",
    "**Task**: Find all sentences that contain the word 'Python'.\n",
    "\n",
    "Generate a list of 15 sentences using `generate_sentences(15)`, then write code to find all sentences that contain the word 'Python' (case-sensitive). Display the matching sentences."
   ]
  },
  {
   "cell_type": "code",
   "execution_count": 5,
   "metadata": {},
   "outputs": [],
   "source": [
    "# Your solution here\n",
    "sentence = generate_sentences(15)\n",
    "\n",
    "for s in sentence:\n",
    "    if 'Python' in s:\n",
    "        print(s)"
   ]
  },
  {
   "cell_type": "markdown",
   "metadata": {},
   "source": [
    "### Problem 1.5 (5 points)\n",
    "**Task**: Get all students with grades between 70 and 90.\n",
    "\n",
    "Generate a list of 30 students using `generate_students(30)`, then write code to find all students whose grade is between 70 and 90 (inclusive). Display their names, majors, and grades."
   ]
  },
  {
   "cell_type": "code",
   "execution_count": 6,
   "metadata": {},
   "outputs": [
    {
     "name": "stdout",
     "output_type": "stream",
     "text": [
      "Eve Smith Physics 70.0\n",
      "Eve Johnson History 79.8\n",
      "Alice Miller Physics 81.2\n",
      "Charlie Smith CS 71.4\n",
      "Diana Garcia English 85.0\n",
      "Charlie Miller CS 72.2\n",
      "Grace Smith Math 83.0\n",
      "Eve Jones English 85.0\n",
      "Charlie Jones CS 73.3\n",
      "Henry Brown Physics 78.0\n",
      "Bob Williams English 84.9\n",
      "Grace Garcia History 87.3\n",
      "Grace Johnson CS 84.5\n",
      "Diana Miller Art 75.5\n"
     ]
    }
   ],
   "source": [
    "# Your solution here\n",
    "students = generate_students(30)\n",
    "\n",
    "for s in students:\n",
    "    if s.grade >= 70 and s.grade <= 90:\n",
    "        print(s.name, s.major, s.grade)"
   ]
  },
  {
   "cell_type": "markdown",
   "metadata": {},
   "source": [
    "### Problem 1.6 (5 points)\n",
    "**Task**: Find all products that cost more than $1000 and have a rating of at least 4.0.\n",
    "\n",
    "Generate a list of 25 products using `generate_products(25)`, then write code to find products that meet both criteria: price > $1000 AND rating ≥ 4.0. Display the product details for matching items."
   ]
  },
  {
   "cell_type": "code",
   "execution_count": 7,
   "metadata": {},
   "outputs": [
    {
     "name": "stdout",
     "output_type": "stream",
     "text": [
      "Product(id=1006, name='Smart Speaker', price=1413.79, quantity=31, category='Computers', rating=4.3)\n",
      "Product(id=1007, name='Power Headphones', price=1764.71, quantity=356, category='Electronics', rating=4.4)\n",
      "Product(id=1009, name='Power Speaker', price=2250.11, quantity=279, category='Wearables', rating=4.6)\n",
      "Product(id=1015, name='Power Tablet', price=2509.68, quantity=240, category='Electronics', rating=4.0)\n",
      "Product(id=1019, name='Eco Headphones', price=1125.61, quantity=310, category='Wearables', rating=4.9)\n",
      "Product(id=1023, name='Eco Headphones', price=2062.24, quantity=412, category='Electronics', rating=4.2)\n"
     ]
    }
   ],
   "source": [
    "# Your solution here\n",
    "products = generate_products(25)\n",
    "\n",
    "for p in products:\n",
    "    if p.price > 1000 and p.rating >= 4.0:\n",
    "        print(p)"
   ]
  },
  {
   "cell_type": "markdown",
   "metadata": {},
   "source": [
    "---\n",
    "## Part 2: Code-to-English Explanation\n",
    "\n",
    "For each code snippet below, write a clear English explanation of **what** the code accomplishes, focusing on the purpose rather than the step-by-step mechanics."
   ]
  },
  {
   "cell_type": "markdown",
   "metadata": {},
   "source": [
    "### Problem 2.1 (6 points)\n",
    "**Task**: Explain what this code accomplishes.\n",
    "\n",
    "```python\n",
    "result = []\n",
    "for student in students:\n",
    "    if student.age >= 18 and student.credits > 15:\n",
    "        result.append(student.name)\n",
    "```\n",
    "\n",
    "**Your explanation**:"
   ]
  },
  {
   "cell_type": "markdown",
   "metadata": {},
   "source": [
    "Write your explanation here as a comment or markdown text.\n",
    "\n",
    "# Find all students name who's age is greater than eighteen years old and have a credits greater than fifteen."
   ]
  },
  {
   "cell_type": "markdown",
   "metadata": {},
   "source": [
    "### Problem 2.2 (6 points)\n",
    "**Task**: Explain what this code accomplishes.\n",
    "\n",
    "```python\n",
    "expensive_items = [p for p in products if p.price > 500]\n",
    "total_value = sum(p.price * p.quantity for p in expensive_items)\n",
    "```\n",
    "\n",
    "**Your explanation**:"
   ]
  },
  {
   "cell_type": "markdown",
   "metadata": {},
   "source": [
    "Write your explanation here.\n",
    "# This calculate the total_value of products with price greater than five hundreds by multiplying them with their quantities."
   ]
  },
  {
   "cell_type": "markdown",
   "metadata": {},
   "source": [
    "### Problem 2.3 (6 points)\n",
    "**Task**: Explain what this code accomplishes.\n",
    "\n",
    "```python\n",
    "senior_students = []\n",
    "for s in students:\n",
    "    if s.age > 22:\n",
    "        senior_students.append(s.name.upper())\n",
    "```\n",
    "\n",
    "**Your explanation**:"
   ]
  },
  {
   "cell_type": "markdown",
   "metadata": {},
   "source": [
    "Write your explanation here.\n",
    "# Find all senior students name in uppercase with age greater than twenty two."
   ]
  },
  {
   "cell_type": "markdown",
   "metadata": {},
   "source": [
    "### Problem 2.4 (6 points)\n",
    "**Task**: Explain what this code accomplishes.\n",
    "\n",
    "```python\n",
    "categories = {}\n",
    "for product in products:\n",
    "    if product.category not in categories:\n",
    "        categories[product.category] = 0\n",
    "    categories[product.category] += product.quantity\n",
    "```\n",
    "\n",
    "**Your explanation**:"
   ]
  },
  {
   "cell_type": "markdown",
   "metadata": {},
   "source": [
    "Write your explanation here.\n",
    "# Display the quantity of each product category."
   ]
  },
  {
   "cell_type": "markdown",
   "metadata": {},
   "source": [
    "### Problem 2.5 (6 points)\n",
    "**Task**: Explain what this code accomplishes.\n",
    "\n",
    "```python\n",
    "failing_students = collect(students, lambda s: s.grade < 60)\n",
    "remedial_list = transform(failing_students, lambda s: f\"{s.name} needs help in {s.major}\")\n",
    "```\n",
    "\n",
    "**Your explanation**:"
   ]
  },
  {
   "cell_type": "markdown",
   "metadata": {},
   "source": [
    "Write your explanation here.\n",
    "# Finding students who need help in a particular major."
   ]
  },
  {
   "cell_type": "markdown",
   "metadata": {},
   "source": [
    "---\n",
    "## Part 3: Advanced Collection and Transform Problems \n",
    "\n",
    "Solve the following problems using the `collect` and `transform` functions along with `data_generator.py`."
   ]
  },
  {
   "cell_type": "code",
   "execution_count": 2,
   "metadata": {},
   "outputs": [],
   "source": [
    "from data_generator import generate_numbers, generate_students, generate_products, generate_sentences\n",
    "\n",
    "# Helper functions from lecture\n",
    "def collect(items, condition):\n",
    "    \"\"\"\n",
    "    Collects all items that satisfy the given condition.\n",
    "    \"\"\"\n",
    "    output = []\n",
    "    for item in items:\n",
    "        if condition(item) == True:\n",
    "            output.append(item)\n",
    "    return output\n",
    "\n",
    "def transform(collection, transformer):\n",
    "    \"\"\"\n",
    "    Transforms all items in the collection using the given transformer function.\n",
    "    \"\"\"\n",
    "    output = []\n",
    "    for item in collection:\n",
    "        output.append(transformer(item))\n",
    "    return output"
   ]
  },
  {
   "cell_type": "markdown",
   "metadata": {},
   "source": [
    "### Problem 3.1 (5 points)\n",
    "**Task**: Create a list of Art majors who have grades above 75.\n",
    "\n",
    "Generate 30 students and find all Art majors with grades above 75. Display their names and grades."
   ]
  },
  {
   "cell_type": "code",
   "execution_count": 3,
   "metadata": {},
   "outputs": [
    {
     "name": "stdout",
     "output_type": "stream",
     "text": [
      "[('Bob Brown', 81.8)]\n"
     ]
    }
   ],
   "source": [
    "# Your solution here\n",
    "students = generate_students(30)\n",
    "students = collect(students, lambda x: x.major == 'Art' and x.grade > 75)\n",
    "\n",
    "def display(item):\n",
    "    return item.name, item.grade\n",
    "\n",
    "print(transform(students, display))"
   ]
  },
  {
   "cell_type": "markdown",
   "metadata": {},
   "source": [
    "### Problem 3.2 (5 points)\n",
    "**Task**: Identify all numbers that are perfect squares.\n",
    "\n",
    "Generate 50 numbers between 1 and 100, then find all that are perfect squares (1, 4, 9, 16, 25, 36, 49, 64, 81, 100). Display the perfect squares you found.\n",
    "\n",
    "*Hint: A number is a perfect square if the square root is a whole number.*"
   ]
  },
  {
   "cell_type": "code",
   "execution_count": 7,
   "metadata": {},
   "outputs": [
    {
     "name": "stdout",
     "output_type": "stream",
     "text": [
      "49\n",
      "1\n"
     ]
    }
   ],
   "source": [
    "# Your solution here\n",
    "import math\n",
    "numbers = generate_numbers(50)\n",
    "numbers = collect(numbers, lambda x: x >=1 and x <= 100)\n",
    "\n",
    "def perfect_squares(item):\n",
    "       if math.sqrt(item).is_integer():\n",
    "       # if math.sqrt(item) == math.floor(item)\n",
    "           return item\n",
    "    \n",
    "perfect = transform(numbers, perfect_squares)\n",
    "for i in perfect:\n",
    "    if i is not None:\n",
    "        print(i)"
   ]
  },
  {
   "cell_type": "markdown",
   "metadata": {},
   "source": [
    "### Problem 3.3 (5 points)\n",
    "**Task**: Find products where the total inventory value exceeds $10,000.\n",
    "\n",
    "Generate 25 products and find all products where (price × quantity) > $10,000. Display the product name, price, quantity, and total value for qualifying products."
   ]
  },
  {
   "cell_type": "code",
   "execution_count": 8,
   "metadata": {},
   "outputs": [
    {
     "name": "stdout",
     "output_type": "stream",
     "text": [
      "[('Eco Camera', 337.64, 449), ('Pro Camera', 1673.06, 139), ('Smart Phone', 2071.86, 436), ('Eco Headphones', 180.86, 324), ('Ultra Laptop', 1020.65, 66), ('Mini Speaker', 2125.82, 287), ('Basic Speaker', 136.99, 189), ('Power Phone', 154.22, 186), ('Premium Camera', 771.09, 52), ('Power Speaker', 2255.94, 473), ('Basic Watch', 103.61, 377), ('Power Headphones', 2019.61, 376), ('Pro Watch', 2620.33, 439), ('Mini Tablet', 936.41, 407), ('Premium Watch', 1004.93, 442), ('Eco Tablet', 1935.19, 204), ('Ultra Laptop', 2634.79, 133), ('Eco Laptop', 351.95, 222), ('Smart Watch', 1830.43, 261), ('Premium Tablet', 161.82, 223), ('Premium Tablet', 1310.94, 485), ('Pro Camera', 2703.13, 259), ('Smart Watch', 2100.7, 283), ('Power Camera', 2251.95, 89), ('Power Speaker', 2506.15, 155)]\n",
      "Total value is 9815806.290000001\n"
     ]
    }
   ],
   "source": [
    "# Your solution here\n",
    "products = generate_products(25)\n",
    "products = collect(products, lambda x: (x.price * x.quantity) > 10000)\n",
    "\n",
    "total_value = sum(p.price * p.quantity for p in products)\n",
    "\n",
    "def display(item):\n",
    "    return item.name, item.price, item.quantity\n",
    "\n",
    "print(transform(products, display))\n",
    "print(f\"Total value is {total_value}\")\n"
   ]
  },
  {
   "cell_type": "markdown",
   "metadata": {},
   "source": [
    "### Problem 3.4 (5 points)\n",
    "**Task**: Locate sentences that contain exactly 5 words.\n",
    "\n",
    "Generate 20 sentences and find all that contain exactly 5 words. Display the matching sentences.\n",
    "\n",
    "*Hint: You can split a sentence by spaces and count the resulting list.*"
   ]
  },
  {
   "cell_type": "code",
   "execution_count": 12,
   "metadata": {},
   "outputs": [
    {
     "data": {
      "text/plain": [
       "['The student computes large datasets.',\n",
       " 'The data computes large datasets.',\n",
       " 'The student analyzes complex patterns.',\n",
       " 'The algorithm processes the results.',\n",
       " 'A professor computes user input.',\n",
       " 'The student aggregates complex patterns.',\n",
       " 'The student aggregates the results.',\n",
       " 'The data filters the output.',\n",
       " 'The data analyzes the output.',\n",
       " 'The data aggregates the results.',\n",
       " 'The student analyzes large datasets.',\n",
       " 'The student analyzes large datasets.',\n",
       " 'The student analyzes the results.',\n",
       " 'The data filters complex patterns.']"
      ]
     },
     "execution_count": 12,
     "metadata": {},
     "output_type": "execute_result"
    }
   ],
   "source": [
    "# Your solution here\n",
    "sentence = generate_sentences(20)\n",
    "#for i in sentence:\n",
    "    #rs = i.split()\n",
    "    #if len(rs) == 5:\n",
    "        #print(f\"{rs} -> {len(rs)}\")\n",
    "#print()\n",
    "sentence = collect(sentence, lambda s: len(s.split()) == 5)\n",
    "sentence\n"
   ]
  },
  {
   "cell_type": "markdown",
   "metadata": {},
   "source": [
    "### Problem 3.5 (5 points)\n",
    "**Task**: Find students whose full names consist of exactly 2 words.\n",
    "\n",
    "Generate 25 students and find all whose names have exactly 2 words (first name and last name only). Display their names."
   ]
  },
  {
   "cell_type": "code",
   "execution_count": 13,
   "metadata": {},
   "outputs": [
    {
     "data": {
      "text/plain": [
       "['Eve Garcia',\n",
       " 'Diana Williams',\n",
       " 'Charlie Williams',\n",
       " 'Eve Jones',\n",
       " 'Eve Garcia',\n",
       " 'Bob Jones',\n",
       " 'Eve Smith',\n",
       " 'Eve Jones',\n",
       " 'Henry Williams',\n",
       " 'Henry Smith',\n",
       " 'Bob Miller',\n",
       " 'Grace Miller',\n",
       " 'Eve Williams',\n",
       " 'Alice Garcia',\n",
       " 'Frank Jones',\n",
       " 'Eve Jones',\n",
       " 'Henry Smith',\n",
       " 'Charlie Williams',\n",
       " 'Diana Miller',\n",
       " 'Charlie Brown',\n",
       " 'Henry Brown',\n",
       " 'Diana Jones',\n",
       " 'Bob Williams',\n",
       " 'Alice Williams',\n",
       " 'Charlie Brown']"
      ]
     },
     "execution_count": 13,
     "metadata": {},
     "output_type": "execute_result"
    }
   ],
   "source": [
    "# Your solution here\n",
    "students = generate_students(25)\n",
    "students = collect(students, lambda s: len(s.name.split()) == 2)\n",
    "\n",
    "transform(students, lambda s: f\"{s.name}\")\n",
    "\n",
    "\n"
   ]
  },
  {
   "cell_type": "markdown",
   "metadata": {},
   "source": [
    "### Problem 3.6 (5 points)\n",
    "**Task**: Generate email addresses for students.\n",
    "\n",
    "Generate 15 students and create email addresses in the format \"firstname.lastname@university.edu\". Display the student names and their corresponding email addresses.\n",
    "\n",
    "*Hint: You'll need to extract the first and last names from the full name and convert to lowercase.*"
   ]
  },
  {
   "cell_type": "code",
   "execution_count": 14,
   "metadata": {},
   "outputs": [
    {
     "data": {
      "text/plain": [
       "['Henry Johnson --> henry.johnson@university.edu',\n",
       " 'Grace Garcia --> grace.garcia@university.edu',\n",
       " 'Eve Williams --> eve.williams@university.edu',\n",
       " 'Bob Miller --> bob.miller@university.edu',\n",
       " 'Frank Miller --> frank.miller@university.edu',\n",
       " 'Bob Brown --> bob.brown@university.edu',\n",
       " 'Alice Williams --> alice.williams@university.edu',\n",
       " 'Henry Johnson --> henry.johnson@university.edu',\n",
       " 'Eve Jones --> eve.jones@university.edu',\n",
       " 'Eve Smith --> eve.smith@university.edu',\n",
       " 'Frank Smith --> frank.smith@university.edu',\n",
       " 'Charlie Garcia --> charlie.garcia@university.edu',\n",
       " 'Grace Brown --> grace.brown@university.edu',\n",
       " 'Frank Miller --> frank.miller@university.edu',\n",
       " 'Alice Garcia --> alice.garcia@university.edu']"
      ]
     },
     "execution_count": 14,
     "metadata": {},
     "output_type": "execute_result"
    }
   ],
   "source": [
    "# Your solution here\n",
    "\n",
    "students = generate_students(15)\n",
    "#for u in students:\n",
    "    #print(f\"{u.name.replace(' ', '.').lower()}@university.edu\")\n",
    "transform(students, lambda s: f\"{s.name} --> {s.name.replace(' ', '.').lower()}@university.edu\")"
   ]
  },
  {
   "cell_type": "markdown",
   "metadata": {},
   "source": [
    "### Problem 3.7 (5 points)\n",
    "**Task**: Convert numbers to their absolute values, then square the results.\n",
    "\n",
    "Generate 20 numbers and transform them by first taking the absolute value, then squaring. Display the original numbers alongside their transformed values."
   ]
  },
  {
   "cell_type": "code",
   "execution_count": 15,
   "metadata": {},
   "outputs": [
    {
     "data": {
      "text/plain": [
       "['55 -> 3025',\n",
       " '13 -> 169',\n",
       " '6 -> 36',\n",
       " '-31 -> 961',\n",
       " '-45 -> 2025',\n",
       " '93 -> 8649',\n",
       " '31 -> 961',\n",
       " '-71 -> 5041',\n",
       " '-12 -> 144',\n",
       " '10 -> 100',\n",
       " '-72 -> 5184',\n",
       " '-28 -> 784',\n",
       " '73 -> 5329',\n",
       " '73 -> 5329',\n",
       " '51 -> 2601',\n",
       " '24 -> 576',\n",
       " '34 -> 1156',\n",
       " '70 -> 4900',\n",
       " '-22 -> 484',\n",
       " '-89 -> 7921']"
      ]
     },
     "execution_count": 15,
     "metadata": {},
     "output_type": "execute_result"
    }
   ],
   "source": [
    "# Your solution here\n",
    "import math\n",
    "\n",
    "numbers = generate_numbers(20)\n",
    "\n",
    "def abs_square(item):\n",
    "  return f\"{item} -> {(abs(item)**2)}\"\n",
    "\n",
    "transform(numbers, abs_square)\n",
    "\n",
    "    \n"
   ]
  },
  {
   "cell_type": "markdown",
   "metadata": {},
   "source": [
    "### Problem 3.8 (5 points)\n",
    "**Task**: Create inventory status messages.\n",
    "\n",
    "Generate 20 products and create status messages: \"ProductName: IN STOCK\" if quantity > 100, else \"ProductName: LOW STOCK\". Display all status messages."
   ]
  },
  {
   "cell_type": "code",
   "execution_count": 21,
   "metadata": {},
   "outputs": [
    {
     "data": {
      "text/plain": [
       "['Basic Headphones:IN STOCK',\n",
       " 'Pro Phone:IN STOCK',\n",
       " 'Ultra Speaker:IN STOCK',\n",
       " 'Pro Speaker:IN STOCK',\n",
       " 'Eco Phone:LOW STOCK',\n",
       " 'Power Speaker:IN STOCK',\n",
       " 'Premium Speaker:IN STOCK',\n",
       " 'Basic Headphones:LOW STOCK',\n",
       " 'Smart Camera:LOW STOCK',\n",
       " 'Eco Headphones:IN STOCK',\n",
       " 'Premium Laptop:IN STOCK',\n",
       " 'Mini Laptop:IN STOCK',\n",
       " 'Basic Speaker:LOW STOCK',\n",
       " 'Mini Speaker:IN STOCK',\n",
       " 'Smart Camera:IN STOCK',\n",
       " 'Basic Headphones:IN STOCK',\n",
       " 'Ultra Headphones:LOW STOCK',\n",
       " 'Smart Camera:IN STOCK',\n",
       " 'Pro Tablet:IN STOCK',\n",
       " 'Eco Speaker:IN STOCK']"
      ]
     },
     "execution_count": 21,
     "metadata": {},
     "output_type": "execute_result"
    }
   ],
   "source": [
    "# Your solution here\n",
    "products = generate_products(20)\n",
    "def conditions(item):\n",
    "   return f\"{item.name}:IN STOCK\" if item.quantity > 100 else f\"{item.name}:LOW STOCK\"\n",
    " \n",
    "transform(products, conditions)\n"
   ]
  },
  {
   "cell_type": "code",
   "execution_count": 108,
   "metadata": {},
   "outputs": [],
   "source": []
  },
  {
   "cell_type": "code",
   "execution_count": null,
   "metadata": {},
   "outputs": [],
   "source": []
  },
  {
   "cell_type": "code",
   "execution_count": null,
   "metadata": {},
   "outputs": [],
   "source": []
  }
 ],
 "metadata": {
  "kernelspec": {
   "display_name": "Python 3 (ipykernel)",
   "language": "python",
   "name": "python3"
  },
  "language_info": {
   "codemirror_mode": {
    "name": "ipython",
    "version": 3
   },
   "file_extension": ".py",
   "mimetype": "text/x-python",
   "name": "python",
   "nbconvert_exporter": "python",
   "pygments_lexer": "ipython3",
   "version": "3.13.1"
  }
 },
 "nbformat": 4,
 "nbformat_minor": 4
}
