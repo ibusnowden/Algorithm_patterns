{
 "cells": [
  {
   "cell_type": "markdown",
   "metadata": {},
   "source": [
    "# COMP 4030/6030- Assignment 1\n",
    "**Due: 09/09/2025**\n",
    "\n",
    "**Instructions**: Complete all problems in this notebook. Make sure to test your code and include clear explanations where requested.  You must do this problem by yourself.  You cannot get help from other people or AI.  If you do, the penalty is a zero for the assignment, and you will be reported to the department and the Office of Student Accountability\n",
    "\n",
    "---\n",
    "\n",
    "**Write your name here**: _______\n",
    "\n"
   ]
  },
  {
   "cell_type": "markdown",
   "metadata": {},
   "source": [
    "## Setup\n",
    "Run this cell first to import the data generator and define the helper functions."
   ]
  },
  {
   "cell_type": "code",
   "execution_count": 3,
   "metadata": {},
   "outputs": [],
   "source": [
    "# Helper functions from lecture\n",
    "\n",
    "from data_generator import generate_numbers, generate_students, generate_products, generate_sentences\n",
    "\n"
   ]
  },
  {
   "cell_type": "markdown",
   "metadata": {},
   "source": [
    "---\n",
    "## Part 1: English-to-Code Translation\n",
    "\n",
    "For each problem below, translate the English description into working Python code. First identify the key actions, nouns, and conditions, then write your solution."
   ]
  },
  {
   "cell_type": "markdown",
   "metadata": {},
   "source": [
    "### Problem 1.1 (5 points)\n",
    "**Task**: Find all numbers that are even and positive.\n",
    "\n",
    "Generate a list of 20 random numbers using `generate_numbers(20)`, then write code to find all numbers that are both even and positive. Display your results."
   ]
  },
  {
   "cell_type": "code",
   "execution_count": null,
   "metadata": {},
   "outputs": [],
   "source": [
    "# Your solution here\n"
   ]
  },
  {
   "cell_type": "markdown",
   "metadata": {},
   "source": [
    "### Problem 1.2 (5 points)\n",
    "**Task**: Get all students who are 20 years old or younger.\n",
    "\n",
    "Generate a list of 25 students using `generate_students(25)`, then write code to find all students whose age is 20 or less. Display the results showing each student's name and age."
   ]
  },
  {
   "cell_type": "code",
   "execution_count": null,
   "metadata": {},
   "outputs": [],
   "source": [
    "# Your solution here\n"
   ]
  },
  {
   "cell_type": "markdown",
   "metadata": {},
   "source": [
    "### Problem 1.3 (5 points)\n",
    "**Task**: Select all products in the 'Electronics' category.\n",
    "\n",
    "Generate a list of 20 products using `generate_products(20)`, then write code to find all products that belong to the 'Electronics' category. Display the product names and prices."
   ]
  },
  {
   "cell_type": "code",
   "execution_count": null,
   "metadata": {},
   "outputs": [],
   "source": [
    "# Your solution here\n"
   ]
  },
  {
   "cell_type": "markdown",
   "metadata": {},
   "source": [
    "### Problem 1.4 (5 points)\n",
    "**Task**: Find all sentences that contain the word 'Python'.\n",
    "\n",
    "Generate a list of 15 sentences using `generate_sentences(15)`, then write code to find all sentences that contain the word 'Python' (case-sensitive). Display the matching sentences."
   ]
  },
  {
   "cell_type": "code",
   "execution_count": null,
   "metadata": {},
   "outputs": [],
   "source": [
    "# Your solution here\n"
   ]
  },
  {
   "cell_type": "markdown",
   "metadata": {},
   "source": [
    "### Problem 1.5 (5 points)\n",
    "**Task**: Get all students with grades between 70 and 90.\n",
    "\n",
    "Generate a list of 30 students using `generate_students(30)`, then write code to find all students whose grade is between 70 and 90 (inclusive). Display their names, majors, and grades."
   ]
  },
  {
   "cell_type": "code",
   "execution_count": null,
   "metadata": {},
   "outputs": [],
   "source": [
    "# Your solution here\n"
   ]
  },
  {
   "cell_type": "markdown",
   "metadata": {},
   "source": [
    "### Problem 1.6 (5 points)\n",
    "**Task**: Find all products that cost more than $1000 and have a rating of at least 4.0.\n",
    "\n",
    "Generate a list of 25 products using `generate_products(25)`, then write code to find products that meet both criteria: price > $1000 AND rating ≥ 4.0. Display the product details for matching items."
   ]
  },
  {
   "cell_type": "code",
   "execution_count": null,
   "metadata": {},
   "outputs": [],
   "source": [
    "# Your solution here\n"
   ]
  },
  {
   "cell_type": "markdown",
   "metadata": {},
   "source": [
    "---\n",
    "## Part 2: Code-to-English Explanation\n",
    "\n",
    "For each code snippet below, write a clear English explanation of **what** the code accomplishes, focusing on the purpose rather than the step-by-step mechanics."
   ]
  },
  {
   "cell_type": "markdown",
   "metadata": {},
   "source": [
    "### Problem 2.1 (6 points)\n",
    "**Task**: Explain what this code accomplishes.\n",
    "\n",
    "```python\n",
    "result = []\n",
    "for student in students:\n",
    "    if student.age >= 18 and student.credits > 15:\n",
    "        result.append(student.name)\n",
    "```\n",
    "\n",
    "**Your explanation**:"
   ]
  },
  {
   "cell_type": "markdown",
   "metadata": {},
   "source": [
    "Write your explanation here as a comment or markdown text.\n"
   ]
  },
  {
   "cell_type": "markdown",
   "metadata": {},
   "source": [
    "### Problem 2.2 (6 points)\n",
    "**Task**: Explain what this code accomplishes.\n",
    "\n",
    "```python\n",
    "expensive_items = [p for p in products if p.price > 500]\n",
    "total_value = sum(p.price * p.quantity for p in expensive_items)\n",
    "```\n",
    "\n",
    "**Your explanation**:"
   ]
  },
  {
   "cell_type": "markdown",
   "metadata": {},
   "source": [
    "Write your explanation here.\n"
   ]
  },
  {
   "cell_type": "markdown",
   "metadata": {},
   "source": [
    "### Problem 2.3 (6 points)\n",
    "**Task**: Explain what this code accomplishes.\n",
    "\n",
    "```python\n",
    "senior_students = []\n",
    "for s in students:\n",
    "    if s.age > 22:\n",
    "        senior_students.append(s.name.upper())\n",
    "```\n",
    "\n",
    "**Your explanation**:"
   ]
  },
  {
   "cell_type": "markdown",
   "metadata": {},
   "source": [
    "Write your explanation here.\n"
   ]
  },
  {
   "cell_type": "markdown",
   "metadata": {},
   "source": [
    "### Problem 2.4 (6 points)\n",
    "**Task**: Explain what this code accomplishes.\n",
    "\n",
    "```python\n",
    "categories = {}\n",
    "for product in products:\n",
    "    if product.category not in categories:\n",
    "        categories[product.category] = 0\n",
    "    categories[product.category] += product.quantity\n",
    "```\n",
    "\n",
    "**Your explanation**:"
   ]
  },
  {
   "cell_type": "markdown",
   "metadata": {},
   "source": [
    "Write your explanation here.\n"
   ]
  },
  {
   "cell_type": "markdown",
   "metadata": {},
   "source": [
    "### Problem 2.5 (6 points)\n",
    "**Task**: Explain what this code accomplishes.\n",
    "\n",
    "```python\n",
    "failing_students = collect(students, lambda s: s.grade < 60)\n",
    "remedial_list = transform(failing_students, lambda s: f\"{s.name} needs help in {s.major}\")\n",
    "```\n",
    "\n",
    "**Your explanation**:"
   ]
  },
  {
   "cell_type": "markdown",
   "metadata": {},
   "source": [
    "Write your explanation here.\n"
   ]
  },
  {
   "cell_type": "markdown",
   "metadata": {},
   "source": [
    "---\n",
    "## Part 3: Advanced Collection and Transform Problems \n",
    "\n",
    "Solve the following problems using the `collect` and `transform` functions along with `data_generator.py`."
   ]
  },
  {
   "cell_type": "code",
   "execution_count": 2,
   "metadata": {},
   "outputs": [],
   "source": [
    "from data_generator import generate_numbers, generate_students, generate_products, generate_sentences\n",
    "\n",
    "# Helper functions from lecture\n",
    "def collect(items, condition):\n",
    "    \"\"\"\n",
    "    Collects all items that satisfy the given condition.\n",
    "    \"\"\"\n",
    "    output = []\n",
    "    for item in items:\n",
    "        if condition(item) == True:\n",
    "            output.append(item)\n",
    "    return output\n",
    "\n",
    "def transform(collection, transformer):\n",
    "    \"\"\"\n",
    "    Transforms all items in the collection using the given transformer function.\n",
    "    \"\"\"\n",
    "    output = []\n",
    "    for item in collection:\n",
    "        output.append(transformer(item))\n",
    "    return output"
   ]
  },
  {
   "cell_type": "markdown",
   "metadata": {},
   "source": [
    "### Problem 3.1 (5 points)\n",
    "**Task**: Create a list of Art majors who have grades above 75.\n",
    "\n",
    "Generate 30 students and find all Art majors with grades above 75. Display their names and grades."
   ]
  },
  {
   "cell_type": "code",
   "execution_count": null,
   "metadata": {},
   "outputs": [],
   "source": [
    "# Your solution here\n"
   ]
  },
  {
   "cell_type": "markdown",
   "metadata": {},
   "source": [
    "### Problem 3.2 (5 points)\n",
    "**Task**: Identify all numbers that are perfect squares.\n",
    "\n",
    "Generate 50 numbers between 1 and 100, then find all that are perfect squares (1, 4, 9, 16, 25, 36, 49, 64, 81, 100). Display the perfect squares you found.\n",
    "\n",
    "*Hint: A number is a perfect square if the square root is a whole number.*"
   ]
  },
  {
   "cell_type": "code",
   "execution_count": null,
   "metadata": {},
   "outputs": [],
   "source": [
    "# Your solution here\n"
   ]
  },
  {
   "cell_type": "markdown",
   "metadata": {},
   "source": [
    "### Problem 3.3 (5 points)\n",
    "**Task**: Find products where the total inventory value exceeds $10,000.\n",
    "\n",
    "Generate 25 products and find all products where (price × quantity) > $10,000. Display the product name, price, quantity, and total value for qualifying products."
   ]
  },
  {
   "cell_type": "code",
   "execution_count": null,
   "metadata": {},
   "outputs": [],
   "source": [
    "# Your solution here\n"
   ]
  },
  {
   "cell_type": "markdown",
   "metadata": {},
   "source": [
    "### Problem 3.4 (5 points)\n",
    "**Task**: Locate sentences that contain exactly 5 words.\n",
    "\n",
    "Generate 20 sentences and find all that contain exactly 5 words. Display the matching sentences.\n",
    "\n",
    "*Hint: You can split a sentence by spaces and count the resulting list.*"
   ]
  },
  {
   "cell_type": "code",
   "execution_count": null,
   "metadata": {},
   "outputs": [],
   "source": [
    "# Your solution here\n"
   ]
  },
  {
   "cell_type": "markdown",
   "metadata": {},
   "source": [
    "### Problem 3.5 (5 points)\n",
    "**Task**: Find students whose full names consist of exactly 2 words.\n",
    "\n",
    "Generate 25 students and find all whose names have exactly 2 words (first name and last name only). Display their names."
   ]
  },
  {
   "cell_type": "code",
   "execution_count": null,
   "metadata": {},
   "outputs": [],
   "source": [
    "# Your solution here\n"
   ]
  },
  {
   "cell_type": "markdown",
   "metadata": {},
   "source": [
    "### Problem 3.6 (5 points)\n",
    "**Task**: Generate email addresses for students.\n",
    "\n",
    "Generate 15 students and create email addresses in the format \"firstname.lastname@university.edu\". Display the student names and their corresponding email addresses.\n",
    "\n",
    "*Hint: You'll need to extract the first and last names from the full name and convert to lowercase.*"
   ]
  },
  {
   "cell_type": "code",
   "execution_count": null,
   "metadata": {},
   "outputs": [],
   "source": [
    "# Your solution here\n"
   ]
  },
  {
   "cell_type": "markdown",
   "metadata": {},
   "source": [
    "### Problem 3.7 (5 points)\n",
    "**Task**: Convert numbers to their absolute values, then square the results.\n",
    "\n",
    "Generate 20 numbers and transform them by first taking the absolute value, then squaring. Display the original numbers alongside their transformed values."
   ]
  },
  {
   "cell_type": "code",
   "execution_count": null,
   "metadata": {},
   "outputs": [],
   "source": [
    "# Your solution here\n"
   ]
  },
  {
   "cell_type": "markdown",
   "metadata": {},
   "source": [
    "### Problem 3.8 (5 points)\n",
    "**Task**: Create inventory status messages.\n",
    "\n",
    "Generate 20 products and create status messages: \"ProductName: IN STOCK\" if quantity > 100, else \"ProductName: LOW STOCK\". Display all status messages."
   ]
  },
  {
   "cell_type": "code",
   "execution_count": null,
   "metadata": {},
   "outputs": [],
   "source": [
    "# Your solution here\n"
   ]
  }
 ],
 "metadata": {
  "kernelspec": {
   "display_name": "Python 3 (ipykernel)",
   "language": "python",
   "name": "python3"
  },
  "language_info": {
   "codemirror_mode": {
    "name": "ipython",
    "version": 3
   },
   "file_extension": ".py",
   "mimetype": "text/x-python",
   "name": "python",
   "nbconvert_exporter": "python",
   "pygments_lexer": "ipython3",
   "version": "3.12.7"
  }
 },
 "nbformat": 4,
 "nbformat_minor": 4
}
