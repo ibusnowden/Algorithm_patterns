{
 "cells": [
  {
   "cell_type": "markdown",
   "id": "16651855-7395-42da-afe0-2c55ad833db3",
   "metadata": {},
   "source": [
    "# Iterative Patterns"
   ]
  },
  {
   "cell_type": "code",
   "execution_count": 28,
   "id": "4bfa92f5-ba7b-4676-a9fa-06a05a684616",
   "metadata": {},
   "outputs": [],
   "source": [
    "from data_generator import generate_numbers, generate_students, generate_sentences"
   ]
  },
  {
   "cell_type": "code",
   "execution_count": 30,
   "id": "31b57f4d-66ac-487d-a354-4c31d6af23af",
   "metadata": {},
   "outputs": [
    {
     "name": "stdout",
     "output_type": "stream",
     "text": [
      "[-41, -75, -3, -29, 16, 62, -7, -59, -6, -10]\n"
     ]
    }
   ],
   "source": [
    "A = generate_numbers(10)\n",
    "print(A)"
   ]
  },
  {
   "cell_type": "code",
   "execution_count": 32,
   "id": "962042ca-ba63-4446-bdee-fc7534d6d2a5",
   "metadata": {},
   "outputs": [],
   "source": [
    "import data_generator"
   ]
  },
  {
   "cell_type": "markdown",
   "id": "74b31367-9322-4053-bf33-ab0d90e72a98",
   "metadata": {},
   "source": [
    "**Exercise 1**: create a random list of 10 numbers and print out the squares of each number."
   ]
  },
  {
   "cell_type": "code",
   "execution_count": 48,
   "id": "f557ff97-a1ef-4d4d-96e3-53c566f6b77e",
   "metadata": {},
   "outputs": [
    {
     "name": "stdout",
     "output_type": "stream",
     "text": [
      "-32 1024\n",
      "-84 7056\n",
      "-46 2116\n",
      "45 2025\n",
      "83 6889\n",
      "-20 400\n",
      "-46 2116\n",
      "67 4489\n",
      "27 729\n",
      "1 1\n"
     ]
    }
   ],
   "source": [
    "A = generate_numbers(10)\n",
    "for x in A:\n",
    "    print(x, x*x)"
   ]
  },
  {
   "cell_type": "code",
   "execution_count": 58,
   "id": "f0b63a42-9a06-454c-9d6e-68c8acaf4416",
   "metadata": {},
   "outputs": [
    {
     "data": {
      "text/plain": [
       "'Eve Jones'"
      ]
     },
     "execution_count": 58,
     "metadata": {},
     "output_type": "execute_result"
    }
   ],
   "source": [
    "S = generate_students(20)\n",
    "S[0].name"
   ]
  },
  {
   "cell_type": "code",
   "execution_count": 60,
   "id": "df9b08a0-f158-498b-9f93-b70e62a008ae",
   "metadata": {},
   "outputs": [
    {
     "data": {
      "text/plain": [
       "Student(name='Eve Jones', age=20, grade=63.6, major='History', credits=17)"
      ]
     },
     "execution_count": 60,
     "metadata": {},
     "output_type": "execute_result"
    }
   ],
   "source": [
    "S[0]"
   ]
  },
  {
   "cell_type": "code",
   "execution_count": 62,
   "id": "a5930136-ca48-4c6c-853d-6f110f2e5712",
   "metadata": {},
   "outputs": [
    {
     "data": {
      "text/plain": [
       "20"
      ]
     },
     "execution_count": 62,
     "metadata": {},
     "output_type": "execute_result"
    }
   ],
   "source": [
    "S[0].age"
   ]
  },
  {
   "cell_type": "markdown",
   "id": "e89f5dc0-50b7-426b-a4a5-50a132d15b88",
   "metadata": {},
   "source": [
    "**Exercise 2**: how do we get all History majors from this list, S?"
   ]
  },
  {
   "cell_type": "markdown",
   "id": "34b6bc06-2412-48d7-8db2-85d128000322",
   "metadata": {},
   "source": [
    "```\n",
    "you need an if to see whether the major variable equal to History.\n",
    "you need a loop to the entire list.\n",
    "you need to print.\n",
    "```\n",
    "\n",
    "Note: these are fragmented ideas. Not very coherent."
   ]
  },
  {
   "cell_type": "markdown",
   "id": "15727687-91fe-4aa8-bebf-7bbca4cdd7a9",
   "metadata": {},
   "source": [
    "This is how I would describe my solution in English (it's more or less what I think inside my head):\n",
    "- Go through each student in the list and check if the student's is History. If so, print it out."
   ]
  },
  {
   "cell_type": "code",
   "execution_count": 70,
   "id": "c917bc7f-12ad-4927-a126-d21d1afeb57d",
   "metadata": {},
   "outputs": [
    {
     "name": "stdout",
     "output_type": "stream",
     "text": [
      "Student(name='Eve Jones', age=20, grade=63.6, major='History', credits=17)\n",
      "Student(name='Grace Garcia', age=21, grade=87.3, major='History', credits=15)\n",
      "Student(name='Frank Miller', age=25, grade=82.6, major='History', credits=18)\n"
     ]
    }
   ],
   "source": [
    "for student in S:\n",
    "    if student.major == 'History':\n",
    "        print(student)"
   ]
  },
  {
   "cell_type": "code",
   "execution_count": null,
   "id": "fc54b296-7233-48fb-bfb4-d411cd604902",
   "metadata": {},
   "outputs": [],
   "source": []
  }
 ],
 "metadata": {
  "kernelspec": {
   "display_name": "Python 3 (ipykernel)",
   "language": "python",
   "name": "python3"
  },
  "language_info": {
   "codemirror_mode": {
    "name": "ipython",
    "version": 3
   },
   "file_extension": ".py",
   "mimetype": "text/x-python",
   "name": "python",
   "nbconvert_exporter": "python",
   "pygments_lexer": "ipython3",
   "version": "3.12.7"
  }
 },
 "nbformat": 4,
 "nbformat_minor": 5
}
