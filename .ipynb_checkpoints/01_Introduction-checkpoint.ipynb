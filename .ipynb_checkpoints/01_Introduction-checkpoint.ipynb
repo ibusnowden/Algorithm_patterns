{
 "cells": [
  {
   "cell_type": "markdown",
   "id": "43f0e807-67c2-4c08-af39-08e8f282bec7",
   "metadata": {},
   "source": [
    "**Introduction to Jupyter Lab and Notebooks**\n",
    "\n",
    "These notebooks introduce students to computational notebooks as educational tools. Key concepts covered:\n",
    "\n",
    "**What are Jupyter Notebooks?**\n",
    "- Computational documents (like .docx or .xlsx files) that combine code and text\n",
    "- Consist of cells that are either Python code cells or Markdown text cells\n",
    "- Used for prototyping, brainstorming, and note-taking with executable code - not for full software development\n",
    "- Different from IDEs - designed for exploration rather than development\n",
    "\n",
    "**Technical Basics:**\n",
    "- Anaconda is a scientific Python distribution that includes Jupyter Lab\n",
    "- Jupyter Lab is a web application for creating and editing notebooks\n",
    "- New cells default to Python code; can be converted to Markdown for text\n",
    "- Execute cells with Shift+Return or the triangle button\n",
    "- Convert cell types using Esc+M (Markdown) or Esc+Y (Python)\n",
    "\n",
    "**Organization Best Practices:**\n",
    "Create a structured folder system:\n",
    "- Main folder: COMP_4030\n",
    "- Subfolders: Assignments, My_Notebooks, Teacher_Notebooks\n",
    "- Always move downloaded notebooks from Downloads folder to proper course directories\n",
    "- Know how to upload/download notebooks between Canvas and Jupyter Lab\n",
    "\n",
    "The notebooks emphasize that computational notebooks are powerful tools for learning that blend executable code with formatted text documentation."
   ]
  },
  {
   "cell_type": "code",
   "execution_count": null,
   "id": "399acd15-2e6d-4cb6-a688-0e276f00da29",
   "metadata": {},
   "outputs": [],
   "source": []
  }
 ],
 "metadata": {
  "kernelspec": {
   "display_name": "Python 3 (ipykernel)",
   "language": "python",
   "name": "python3"
  },
  "language_info": {
   "codemirror_mode": {
    "name": "ipython",
    "version": 3
   },
   "file_extension": ".py",
   "mimetype": "text/x-python",
   "name": "python",
   "nbconvert_exporter": "python",
   "pygments_lexer": "ipython3",
   "version": "3.12.7"
  }
 },
 "nbformat": 4,
 "nbformat_minor": 5
}
