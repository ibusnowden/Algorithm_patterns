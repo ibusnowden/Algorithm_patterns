{
 "cells": [
  {
   "cell_type": "markdown",
   "id": "1e921ab6-0c11-4442-bf83-ea37b0158284",
   "metadata": {},
   "source": [
    "# Running Times of Iterative Programs"
   ]
  },
  {
   "cell_type": "markdown",
   "id": "d6204bde-ea48-4048-a2dc-39e53c6eefa6",
   "metadata": {},
   "source": [
    "## 1. Running Time Analysis Fundamentals\n",
    "- **Running time as a function of input size**: The running time $T(n)$ depends on the program's input size $n$\n",
    "- **Key principles**:\n",
    "  - Running time complexity describes magnitudes, not exact values\n",
    "  - It focuses on growth rates for large inputs\n",
    "  - Additive and multiplicative constants don't affect complexity"
   ]
  },
  {
   "cell_type": "markdown",
   "id": "295ea040-e9df-4308-8bf6-17050b42e5f3",
   "metadata": {},
   "source": [
    "To figure out T(n), we essentially count the number of steps the program takes."
   ]
  },
  {
   "cell_type": "markdown",
   "id": "964a92f3-de66-493f-970c-f1804d5afd7a",
   "metadata": {},
   "source": [
    "A step may consists of multple instructions.\n",
    "\n",
    "One step may take longer to run than another step.\n",
    "\n",
    "A step (on line 4, for example) should take exactly the same constant amount of time when it runs.  It should not depend on the input.\n",
    "\n",
    "Here's how we count steps:"
   ]
  },
  {
   "cell_type": "code",
   "execution_count": 7,
   "id": "df4eaddc-f79a-48b2-9f34-48a83508a0db",
   "metadata": {},
   "outputs": [],
   "source": [
    "def mystery(n):              # T(n) steps\n",
    "    count = 0                # 1 step\n",
    "    for i in range(n):       # n steps \n",
    "        count += 1           #     1 step\n",
    "    print(count)             # 1 step\n",
    "\n",
    "# T(n) = 1 + n*1 + 1"
   ]
  },
  {
   "cell_type": "code",
   "execution_count": 8,
   "id": "6563254c-1056-4d28-b0cc-9ef4baed2583",
   "metadata": {},
   "outputs": [],
   "source": [
    "def mystery2(L):              # T(n) steps\n",
    "    output = []               # 1 \n",
    "    for x in L:               # n steps (n is the number items of L)\n",
    "        output.append(x*x)    #        1 step\n",
    "    return output             # 1 \n",
    "\n",
    "# T(n) = 1 + n*1 + 1\n"
   ]
  },
  {
   "cell_type": "code",
   "execution_count": null,
   "id": "655903f8-bca0-49d2-b27b-7c9c5e6eb578",
   "metadata": {},
   "outputs": [],
   "source": [
    "def mystery3(L):                 # T(n) steps\n",
    "    output = []                  # 1 \n",
    "    for x in L:                  # n steps (n is the number items of L)\n",
    "        for y in L:              #     n steps\n",
    "            output.append(x*y)   #        1 step\n",
    "    return output                # 1 \n",
    "\n",
    "# T(n) = 1 + n*n*1 + 1"
   ]
  },
  {
   "cell_type": "markdown",
   "id": "de41e81d-5408-4829-bf48-8c57f9206195",
   "metadata": {},
   "source": [
    "Because a step is not the same (in terms of time) as another step, to be more accurate, we will constants (e.g. `a`, `b`, `c`, ...) to describe the steps.  \n",
    "\n",
    "`a` steps is not the same as `b` steps.  But `a` steps is a constant number of steps. The statement takes exactly the same amount time each time it's run."
   ]
  },
  {
   "cell_type": "code",
   "execution_count": 10,
   "id": "3d95996b-0fe6-40c7-a541-6a3e23cee822",
   "metadata": {},
   "outputs": [],
   "source": [
    "def mystery(n):              # T(n) steps\n",
    "    count = 0                # a steps\n",
    "    for i in range(n):       # n steps \n",
    "        count += 1           #     b steps\n",
    "    print(count)             # c steps\n",
    "\n",
    "# T(n) = a + b*n + c\n",
    "# I can also write it like this: T(n) = a + b*n\n"
   ]
  },
  {
   "cell_type": "code",
   "execution_count": 14,
   "id": "3fcd7a1a-69bd-4fe9-b503-e317829ea2c4",
   "metadata": {},
   "outputs": [],
   "source": [
    "def mystery3(L):                 # T(n) steps\n",
    "    output = []                  # a1 \n",
    "    for x in L:                  # n steps (n is the number items of L)\n",
    "        for y in L:              #     n steps\n",
    "            output.append(x*y)   #        b step\n",
    "    return output                # a2 \n",
    "\n",
    "# T(n) = a + b*n^2"
   ]
  },
  {
   "cell_type": "code",
   "execution_count": null,
   "id": "16bef74d-66a4-47fe-8240-571da3ddfebb",
   "metadata": {},
   "outputs": [],
   "source": []
  },
  {
   "cell_type": "code",
   "execution_count": null,
   "id": "665ad836-ea63-454b-b2e7-76ec34bc6f68",
   "metadata": {},
   "outputs": [],
   "source": []
  },
  {
   "cell_type": "markdown",
   "id": "2c892468-39a8-43a0-a055-940e51f550ae",
   "metadata": {},
   "source": [
    "\n",
    "\n",
    "\n",
    "## 2. Determining Running Time Equations\n",
    "- **Step-by-step analysis**: Count the number of steps/operations in a program\n",
    "- **Use of constants**: Since different operations take different times, constants ($a_1$, $a_2$, etc.) represent the time for different code blocks\n",
    "- **Examples covered**:\n",
    "  - Simple loops: $T(n) = a + b \\cdot n$\n",
    "  - Nested loops: $T(n) = a + b \\cdot n^2$\n",
    "  - Complex nested loops with variable bounds\n",
    "\n",
    "## 3. Big-O Notation and Upper Bounds\n",
    "- **Definition**: $T(n) \\in O(f(n))$ if $T(n) \\le c \\cdot f(n)$ for some constant $c$ and large values of $n$\n",
    "- **Key points**:\n",
    "  - $O(f(n))$ is a set of functions\n",
    "  - It represents an upper bound on growth rate\n",
    "  - Constants and lower-order terms are ignored\n",
    "\n",
    "## 4. Bounding Techniques\n",
    "- **Method for proving Big-O membership**:\n",
    "  - Replace smaller terms with larger ones to create an upper bound\n",
    "  - Example: $3n^2 + 5 + 2n \\le 3n^2 + 5n^2 + 2n^2 = 10n^2$\n",
    "  - Therefore, $3n^2 + 5 + 2n \\in O(n^2)$ with $c = 10$\n",
    "\n",
    "## 5. Common Complexity Classes\n",
    "The documents demonstrate analysis of programs with different complexities:\n",
    "- **$O(n)$**: Single loops, linear operations\n",
    "- **$O(n^2)$**: Nested loops with both iterating over the input\n",
    "- **$O(n^3)$**: Triple nested loops\n",
    "\n",
    "## 6. Practical Analysis Process\n",
    "1. Determine the running time equation by counting steps\n",
    "2. Use approximations when exact counts are difficult (e.g., \"at most $n$ steps\")\n",
    "3. Apply bounding techniques to establish the complexity class\n",
    "4. Focus on the dominant terms for large $n$\n",
    "\n",
    "## 7. Important Notation Concepts\n",
    "- The documents mention other complexity notations:\n",
    "  - $\\Omega$ (Omega) for lower bounds\n",
    "  - $\\Theta$ (Theta) for tight bounds\n",
    "- Emphasis on proper mathematical notation:\n",
    "  - Say \"$T(n) \\in O(f(n))$\" not \"$T(n) = O(f(n))$\"\n",
    "  - $O(f(n))$ is a set, not a function\n",
    "\n"
   ]
  },
  {
   "cell_type": "code",
   "execution_count": null,
   "id": "2a103b9b-1c59-4a52-a485-2f1c737ad865",
   "metadata": {},
   "outputs": [],
   "source": []
  }
 ],
 "metadata": {
  "kernelspec": {
   "display_name": "Python 3 (ipykernel)",
   "language": "python",
   "name": "python3"
  },
  "language_info": {
   "codemirror_mode": {
    "name": "ipython",
    "version": 3
   },
   "file_extension": ".py",
   "mimetype": "text/x-python",
   "name": "python",
   "nbconvert_exporter": "python",
   "pygments_lexer": "ipython3",
   "version": "3.12.7"
  }
 },
 "nbformat": 4,
 "nbformat_minor": 5
}
