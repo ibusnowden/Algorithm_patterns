{
 "cells": [
  {
   "cell_type": "markdown",
   "id": "b0b09568-510d-4e2f-b6b2-66451285e0ad",
   "metadata": {},
   "source": [
    "# Pattern"
   ]
  },
  {
   "cell_type": "code",
   "execution_count": 1,
   "id": "35b65513-17be-4a10-87f0-091420deb2dc",
   "metadata": {},
   "outputs": [
    {
     "name": "stdout",
     "output_type": "stream",
     "text": [
      "9\n"
     ]
    }
   ],
   "source": [
    "# To Do:\n",
    "# 1- Read interview guide.\n",
    "# 2- Reproduce 15 conding patterns and do all the problems before MSFT 45 min challenge.\n",
    "# 3- Read python interview on books.\n",
    "# 4- Second pattern from Fernando.\n",
    "# 5- Dynamic programming pattern.\n",
    "# 6- python interviews folders."
   ]
  },
  {
   "cell_type": "markdown",
   "id": "0d679396-4dfb-406e-8e87-e344b1dcaefa",
   "metadata": {},
   "source": [
    "1- Prefix sum."
   ]
  },
  {
   "cell_type": "code",
   "execution_count": null,
   "id": "ce538259-1cfe-4805-83af-35bb67b4625c",
   "metadata": {},
   "outputs": [],
   "source": [
    "\n",
    " #A -> 1 2 3  4  5  6\n",
    " #P -> 1 3 6 10 15 21\n"
   ]
  },
  {
   "cell_type": "markdown",
   "id": "7a116bc7-5793-4f32-beba-6cb96fede6a1",
   "metadata": {},
   "source": [
    "It is used for problem where do you need to query the sum of elements in a subarray.\n",
    "P: Find the sum of all elements between indices i and j."
   ]
  },
  {
   "cell_type": "code",
   "execution_count": 57,
   "id": "bc14f114-dad2-40fe-8fdf-121e558c9b2a",
   "metadata": {},
   "outputs": [],
   "source": [
    "#single query\n",
    "def find_subarray(A, i, j):\n",
    "    ssum = 0\n",
    "    for k in range(i, j+1):\n",
    "        ssum += A[k]\n",
    "        print(ssum)\n",
    "    return ssum"
   ]
  },
  {
   "cell_type": "code",
   "execution_count": 58,
   "id": "1ff579a0-615b-4382-af8b-78a95edc0609",
   "metadata": {},
   "outputs": [
    {
     "name": "stdout",
     "output_type": "stream",
     "text": [
      "1\n",
      "2\n",
      "3\n",
      "3\n"
     ]
    }
   ],
   "source": [
    "# Test\n",
    "A = [1, 1, 1, 1, 1]\n",
    "rs = find_subarray(A, 1, 3)\n",
    "print(rs)\n"
   ]
  },
  {
   "cell_type": "markdown",
   "id": "14bdf426-7287-4172-bc33-4730f6434f38",
   "metadata": {},
   "source": [
    "The prefix sum array where value at index i is the sum of all elements from standup\n",
    "to index i in the query array.\n",
    "We can use 0(1) time with this formula: sum[i, j] = P[j] - P[i-1].\n",
    "No need to create a new array we can use the input array itself to avoid using some extra space.\n"
   ]
  },
  {
   "cell_type": "code",
   "execution_count": 55,
   "id": "bddc43d9-40a8-4837-b346-46dbe799e1b8",
   "metadata": {},
   "outputs": [],
   "source": [
    "def create_prefix_sum(item):\n",
    "    #count = 0\n",
    "    for i in range(1, len(item)):\n",
    "        item[i] += item[i-1]\n",
    "        #if item[i] == k:\n",
    "            #count += 1\n",
    "        print(item[i])\n",
    "    return item\n",
    "# practice 303/525/560"
   ]
  },
  {
   "cell_type": "code",
   "execution_count": 56,
   "id": "14a2c819-b8ee-40be-a17b-cf1618c1c8e4",
   "metadata": {},
   "outputs": [
    {
     "name": "stdout",
     "output_type": "stream",
     "text": [
      "2\n",
      "3\n",
      "[1, 2, 3]\n"
     ]
    }
   ],
   "source": [
    "nums = [1,1,1]\n",
    "#k = 2\n",
    "rs = create_prefix_sum(nums)\n",
    "print(rs)"
   ]
  },
  {
   "cell_type": "code",
   "execution_count": null,
   "id": "c0ada38c-2538-4d6d-85d9-c71f8be1c33e",
   "metadata": {},
   "outputs": [],
   "source": []
  },
  {
   "cell_type": "code",
   "execution_count": null,
   "id": "33c8a6f0-a528-410d-b5e7-8d74e749c1fc",
   "metadata": {},
   "outputs": [],
   "source": []
  }
 ],
 "metadata": {
  "kernelspec": {
   "display_name": "Python 3 (ipykernel)",
   "language": "python",
   "name": "python3"
  },
  "language_info": {
   "codemirror_mode": {
    "name": "ipython",
    "version": 3
   },
   "file_extension": ".py",
   "mimetype": "text/x-python",
   "name": "python",
   "nbconvert_exporter": "python",
   "pygments_lexer": "ipython3",
   "version": "3.13.1"
  }
 },
 "nbformat": 4,
 "nbformat_minor": 5
}
