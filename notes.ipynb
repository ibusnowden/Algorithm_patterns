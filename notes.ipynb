{
 "cells": [
  {
   "cell_type": "code",
   "execution_count": 1,
   "id": "e2a884c9-77ae-4570-9895-4de103adb75f",
   "metadata": {},
   "outputs": [],
   "source": [
    "import numpy as np"
   ]
  },
  {
   "cell_type": "code",
   "execution_count": 6,
   "id": "37a07a2c-83ea-473d-aafa-1459a68cc5ca",
   "metadata": {},
   "outputs": [],
   "source": [
    "import torch\n",
    "import torch.nn as nn\n",
    "import torch.nn.functional as F\n",
    "\n",
    "# Self-Attention\n",
    "class SelfAttention(nn.Module):\n",
    "    def __init__(self, d_model):\n",
    "        super().__init__()\n",
    "        self.d_model = d_model\n",
    "        self.W_q = nn.Linear(d_model, d_model)\n",
    "        self.W_k = nn.Linear(d_model, d_model)\n",
    "        self.W_v = nn.Linear(d_model, d_model)\n",
    "        #self.W_o = nn.Linear(d_model, d_model)\n",
    "\n",
    "    def forward(self, x):\n",
    "        q = self.W_q(x)\n",
    "        k = self.W_k(x)\n",
    "        v = self.W_v(x)\n",
    "\n",
    "        # dot-product attention\n",
    "        scores = torch.matmul(q, k.transpose(-2, -1)) / (self.d_model ** 0.5)\n",
    "        attention_weights = F.softmax(scores, dim=-1)\n",
    "        output = torch.matmul(attention_weights, v)\n",
    "        return output\n",
    "    \n",
    "# Multi-Head Attention\n",
    "class MultiHeadAttention(nn.Module):\n",
    "    def __init__(self, d_model, num_heads):\n",
    "        super().__init__()\n",
    "        self.heads = nn.ModuleList(\n",
    "            [SelfAttention(d_model) for _ in range(num_heads)]\n",
    "        )\n",
    "        self.out_proj = nn.Linear(num_heads, num_heads)\n",
    "        #self.dropout = nn.Dropout(dropout)\n",
    "    \n",
    "    def forward(self, x):\n",
    "        context_vec = torch.cat([head(x) for head in self.heads], dim=-1)\n",
    "        return self.out_proj(context_vec)"
   ]
  },
  {
   "cell_type": "raw",
   "id": "89ea4057-677c-4e57-88af-2d25762b648c",
   "metadata": {},
   "source": [
    "#d_m = np.zeros((1, 2))\n",
    "#attn = Attention()"
   ]
  },
  {
   "cell_type": "code",
   "execution_count": 1,
   "id": "ec5b0f5e-5f1c-463c-8ff6-3124c3486af7",
   "metadata": {},
   "outputs": [],
   "source": [
    "from data_generator import generate_students, generate_strings"
   ]
  },
  {
   "cell_type": "code",
   "execution_count": 2,
   "id": "c0f04356-9da7-4a50-83e9-5a26c41da9c4",
   "metadata": {},
   "outputs": [],
   "source": [
    "A = generate_students(10)"
   ]
  },
  {
   "cell_type": "code",
   "execution_count": 3,
   "id": "73c605b1-fd73-416a-b433-195debe2d27e",
   "metadata": {},
   "outputs": [],
   "source": [
    "B = generate_strings(3)"
   ]
  },
  {
   "cell_type": "code",
   "execution_count": 4,
   "id": "a5a82700-f5a4-461a-8d53-52c515d87319",
   "metadata": {},
   "outputs": [
    {
     "data": {
      "text/plain": [
       "[Student(name='Bob Smith', age=22, grade=66.0, major='Physics', credits=17),\n",
       " Student(name='Bob Garcia', age=26, grade=58.9, major='History', credits=12),\n",
       " Student(name='Alice Smith', age=21, grade=65.5, major='CS', credits=16),\n",
       " Student(name='Diana Garcia', age=26, grade=73.9, major='Art', credits=16),\n",
       " Student(name='Eve Miller', age=18, grade=89.1, major='Physics', credits=17),\n",
       " Student(name='Grace Williams', age=22, grade=62.0, major='English', credits=12),\n",
       " Student(name='Bob Brown', age=19, grade=71.2, major='English', credits=16),\n",
       " Student(name='Eve Miller', age=18, grade=87.8, major='Math', credits=15),\n",
       " Student(name='Bob Jones', age=22, grade=92.3, major='English', credits=16),\n",
       " Student(name='Diana Garcia', age=19, grade=57.1, major='Biology', credits=18)]"
      ]
     },
     "execution_count": 4,
     "metadata": {},
     "output_type": "execute_result"
    }
   ],
   "source": [
    "A"
   ]
  },
  {
   "cell_type": "code",
   "execution_count": 5,
   "id": "57b4207e-4283-4777-b1be-e1ba62c5e5f0",
   "metadata": {},
   "outputs": [
    {
     "data": {
      "text/plain": [
       "['zwwjlve', 'fgyqpese', 'hyrfitbvu']"
      ]
     },
     "execution_count": 5,
     "metadata": {},
     "output_type": "execute_result"
    }
   ],
   "source": [
    "B"
   ]
  },
  {
   "cell_type": "code",
   "execution_count": 6,
   "id": "d9313e6f-ed42-4241-ae35-c2a794909858",
   "metadata": {},
   "outputs": [],
   "source": [
    "import random\n"
   ]
  },
  {
   "cell_type": "code",
   "execution_count": 7,
   "id": "c51a347e-9881-40cf-895a-d82fa419674c",
   "metadata": {},
   "outputs": [
    {
     "name": "stdout",
     "output_type": "stream",
     "text": [
      "[0, 1, 4, 9, 16, 25, 36]\n"
     ]
    }
   ],
   "source": [
    "a = []\n",
    "for i in range(random.randint(1, 11)):\n",
    "    a.append(i)\n",
    "x = [c**2 for c in a]\n",
    "print(x)"
   ]
  },
  {
   "cell_type": "code",
   "execution_count": 8,
   "id": "5c3f4279-b4ce-427f-af5c-f8d2f677f8d1",
   "metadata": {},
   "outputs": [],
   "source": [
    "from data_generator import generate_students, generate_products, generate_numbers, generate_sentences"
   ]
  },
  {
   "cell_type": "code",
   "execution_count": 9,
   "id": "ce998ba4-c26e-4e6e-ad70-0e3636f80153",
   "metadata": {},
   "outputs": [
    {
     "data": {
      "text/plain": [
       "[Student(name='Eve Smith', age=21, grade=96.1, major='English', credits=13),\n",
       " Student(name='Henry Brown', age=25, grade=61.4, major='Physics', credits=13),\n",
       " Student(name='Eve Garcia', age=24, grade=95.4, major='History', credits=14),\n",
       " Student(name='Diana Johnson', age=26, grade=77.2, major='CS', credits=18),\n",
       " Student(name='Bob Johnson', age=20, grade=90.6, major='History', credits=16)]"
      ]
     },
     "execution_count": 9,
     "metadata": {},
     "output_type": "execute_result"
    }
   ],
   "source": [
    "generate_students(5)"
   ]
  },
  {
   "cell_type": "code",
   "execution_count": 10,
   "id": "b97a8c42-70ab-4de6-9088-69a3dcec5017",
   "metadata": {},
   "outputs": [
    {
     "data": {
      "text/plain": [
       "[Product(id=1000, name='Pro Watch', price=1163.4, quantity=239, category='Wearables', rating=2.0),\n",
       " Product(id=1001, name='Ultra Camera', price=2170.53, quantity=349, category='Wearables', rating=4.0),\n",
       " Product(id=1002, name='Smart Laptop', price=901.69, quantity=80, category='Photography', rating=1.0),\n",
       " Product(id=1003, name='Eco Speaker', price=2293.02, quantity=259, category='Electronics', rating=4.5)]"
      ]
     },
     "execution_count": 10,
     "metadata": {},
     "output_type": "execute_result"
    }
   ],
   "source": [
    "generate_products(4)"
   ]
  },
  {
   "cell_type": "code",
   "execution_count": 11,
   "id": "cde9983c-63e6-4c2c-994e-a2f0fa65864c",
   "metadata": {},
   "outputs": [],
   "source": [
    "# What it does: collect all items that satisfies a condition\n",
    "#   condition is a boolean function\n",
    "#   condition(items) is True if the item satisfies the condition, False if not \n",
    "#\n",
    "# Hownit does it: go through the list of items, check if the current item satisfies then append the it to the\n",
    "# selected numbers\n",
    "def collect(items, condition):\n",
    "    selected = []\n",
    "    for item in items:\n",
    "        if condition(item) == True:\n",
    "            selected.append(item)\n",
    "    return selected"
   ]
  },
  {
   "cell_type": "code",
   "execution_count": 12,
   "id": "1bed43d5-f0f0-4236-997f-ef34d1bc0cb6",
   "metadata": {},
   "outputs": [
    {
     "name": "stdout",
     "output_type": "stream",
     "text": [
      "[-24, 63, 29, 55, -50, -61, -5, 95, -59, 38, 99, 35, -100, 53, -18, 25, -96, -72, -8, -22, -39]\n"
     ]
    }
   ],
   "source": [
    "numbers = generate_numbers(21)\n",
    "print(numbers)"
   ]
  },
  {
   "cell_type": "code",
   "execution_count": 13,
   "id": "12e78199-4df7-413f-9015-371e8749ab9b",
   "metadata": {},
   "outputs": [],
   "source": [
    "def is_positive(item):\n",
    "    return item > 0"
   ]
  },
  {
   "cell_type": "code",
   "execution_count": 14,
   "id": "b38d3dfb-25cb-4007-b36e-f8d9eafa6896",
   "metadata": {},
   "outputs": [
    {
     "data": {
      "text/plain": [
       "[63, 29, 55, 95, 38, 99, 35, 53, 25]"
      ]
     },
     "execution_count": 14,
     "metadata": {},
     "output_type": "execute_result"
    }
   ],
   "source": [
    "collect(numbers, is_positive)"
   ]
  },
  {
   "cell_type": "code",
   "execution_count": 15,
   "id": "0b6cb622-82eb-4855-8877-60b7e6f880e4",
   "metadata": {},
   "outputs": [],
   "source": [
    "def is_even(item):\n",
    "    return item % 2 == 0"
   ]
  },
  {
   "cell_type": "code",
   "execution_count": 16,
   "id": "17eb8753-9d29-4309-84f3-bdc3da0d16f0",
   "metadata": {},
   "outputs": [
    {
     "data": {
      "text/plain": [
       "[-24, -50, 38, -100, -18, -96, -72, -8, -22]"
      ]
     },
     "execution_count": 16,
     "metadata": {},
     "output_type": "execute_result"
    }
   ],
   "source": [
    "collect(numbers, is_even)"
   ]
  },
  {
   "cell_type": "code",
   "execution_count": 17,
   "id": "3c703ec1-0fc5-4ee9-a34f-61eebf92c349",
   "metadata": {},
   "outputs": [],
   "source": [
    "def is_even_and_positive(item):\n",
    "    return  item % 2 == 0 and item > 0"
   ]
  },
  {
   "cell_type": "code",
   "execution_count": 18,
   "id": "6b882001-9c1a-4b24-b416-ea6dd531bad4",
   "metadata": {},
   "outputs": [
    {
     "data": {
      "text/plain": [
       "[38]"
      ]
     },
     "execution_count": 18,
     "metadata": {},
     "output_type": "execute_result"
    }
   ],
   "source": [
    "collect(numbers, is_even_and_positive)"
   ]
  },
  {
   "cell_type": "code",
   "execution_count": 19,
   "id": "cd061463-05fa-4023-bab1-7a1b79bcd81e",
   "metadata": {},
   "outputs": [],
   "source": [
    "def div_by_3(n):\n",
    "    return n % 3 == 0"
   ]
  },
  {
   "cell_type": "code",
   "execution_count": 20,
   "id": "a7e27303-32a4-4b5d-819a-395c77fa0034",
   "metadata": {},
   "outputs": [
    {
     "name": "stdout",
     "output_type": "stream",
     "text": [
      "[-24, 63, 99, -18, -96, -72, -39]\n"
     ]
    }
   ],
   "source": [
    "print(collect(numbers, div_by_3))"
   ]
  },
  {
   "cell_type": "code",
   "execution_count": 21,
   "id": "d3f0ec82-2295-4d26-b416-22ca6ab91dc2",
   "metadata": {},
   "outputs": [
    {
     "data": {
      "text/plain": [
       "[55, -50, -5, 95, 35, -100, 25]"
      ]
     },
     "execution_count": 21,
     "metadata": {},
     "output_type": "execute_result"
    }
   ],
   "source": [
    "# lambda is a nameless function\n",
    "collect(numbers, lambda x: x%5==0)"
   ]
  },
  {
   "cell_type": "code",
   "execution_count": 22,
   "id": "2bbd2db7-c433-46f9-99f9-5699066fe496",
   "metadata": {},
   "outputs": [
    {
     "name": "stdout",
     "output_type": "stream",
     "text": [
      "[Student(name='Alice Johnson', age=19, grade=58.9, major='Art', credits=18), Student(name='Bob Miller', age=26, grade=89.5, major='Physics', credits=17), Student(name='Henry Jones', age=20, grade=66.9, major='History', credits=13), Student(name='Diana Garcia', age=22, grade=73.0, major='English', credits=15), Student(name='Henry Smith', age=21, grade=65.1, major='English', credits=12), Student(name='Diana Jones', age=21, grade=55.3, major='CS', credits=13), Student(name='Bob Smith', age=23, grade=58.2, major='Biology', credits=14), Student(name='Henry Johnson', age=26, grade=61.0, major='Art', credits=13), Student(name='Henry Miller', age=24, grade=63.6, major='Math', credits=17), Student(name='Grace Williams', age=24, grade=73.5, major='CS', credits=17), Student(name='Bob Smith', age=24, grade=87.8, major='Math', credits=13), Student(name='Diana Johnson', age=26, grade=75.2, major='History', credits=13), Student(name='Eve Brown', age=21, grade=94.4, major='Math', credits=15), Student(name='Bob Smith', age=26, grade=92.6, major='Math', credits=18), Student(name='Diana Johnson', age=24, grade=76.9, major='Biology', credits=18), Student(name='Grace Smith', age=20, grade=72.1, major='History', credits=14), Student(name='Henry Williams', age=24, grade=86.3, major='Art', credits=13), Student(name='Diana Williams', age=21, grade=98.6, major='CS', credits=17), Student(name='Frank Smith', age=18, grade=81.3, major='Physics', credits=12), Student(name='Bob Miller', age=20, grade=58.1, major='Math', credits=17)]\n"
     ]
    }
   ],
   "source": [
    "class_2025 = generate_students(20)\n",
    "print(class_2025)\n"
   ]
  },
  {
   "cell_type": "code",
   "execution_count": 23,
   "id": "eb297855-9bcc-4913-b3c7-85e09b760144",
   "metadata": {},
   "outputs": [
    {
     "data": {
      "text/plain": [
       "Student(name='Alice Johnson', age=19, grade=58.9, major='Art', credits=18)"
      ]
     },
     "execution_count": 23,
     "metadata": {},
     "output_type": "execute_result"
    }
   ],
   "source": [
    "# select all english major\n",
    "class_2025[0]\n"
   ]
  },
  {
   "cell_type": "code",
   "execution_count": 24,
   "id": "bc5c8e72-288b-4ef6-bf38-81edab352378",
   "metadata": {},
   "outputs": [
    {
     "data": {
      "text/plain": [
       "'Art'"
      ]
     },
     "execution_count": 24,
     "metadata": {},
     "output_type": "execute_result"
    }
   ],
   "source": [
    "class_2025[0].major"
   ]
  },
  {
   "cell_type": "code",
   "execution_count": 25,
   "id": "862f00b4-c7f9-445f-a1ef-f2a9e71d0b97",
   "metadata": {},
   "outputs": [],
   "source": [
    "def is_english_major(student):\n",
    "    return student.major == \"English\"\n",
    "        "
   ]
  },
  {
   "cell_type": "code",
   "execution_count": 26,
   "id": "39f7460f-cb55-4be3-8aef-4695a9ef61e8",
   "metadata": {},
   "outputs": [
    {
     "data": {
      "text/plain": [
       "[Student(name='Diana Garcia', age=22, grade=73.0, major='English', credits=15),\n",
       " Student(name='Henry Smith', age=21, grade=65.1, major='English', credits=12)]"
      ]
     },
     "execution_count": 26,
     "metadata": {},
     "output_type": "execute_result"
    }
   ],
   "source": [
    "collect(class_2025, is_english_major)"
   ]
  },
  {
   "cell_type": "code",
   "execution_count": 27,
   "id": "7182cee4-b142-479f-acca-97464a22a656",
   "metadata": {},
   "outputs": [],
   "source": [
    "sentences = generate_sentences(20)"
   ]
  },
  {
   "cell_type": "code",
   "execution_count": 28,
   "id": "1e558d9a-dcdb-40a1-9f8e-7602de0f0a22",
   "metadata": {},
   "outputs": [
    {
     "name": "stdout",
     "output_type": "stream",
     "text": [
      "['A professor filters the results efficiently.', 'The data aggregates the results.', 'Python computes the output.', 'The algorithm transforms large datasets.', 'The algorithm analyzes complex patterns.', 'The algorithm filters complex patterns quickly.', 'The student filters the output quickly.', 'The student aggregates large datasets.', 'A professor transforms the results with precision.', 'The algorithm analyzes user input with precision.', 'The data computes the output.', 'The data transforms the results efficiently.', 'The algorithm processes the results efficiently.', 'The algorithm transforms the output.', 'The algorithm analyzes complex patterns.', 'The algorithm processes the results.', 'The algorithm processes the results.', 'A professor computes complex patterns.', 'Python aggregates user input.', 'The student processes large datasets.']\n"
     ]
    }
   ],
   "source": [
    "print(sentences)"
   ]
  },
  {
   "cell_type": "code",
   "execution_count": 29,
   "id": "3f686390-9a8b-4d95-baa1-70b31edd5b0f",
   "metadata": {},
   "outputs": [
    {
     "data": {
      "text/plain": [
       "True"
      ]
     },
     "execution_count": 29,
     "metadata": {},
     "output_type": "execute_result"
    }
   ],
   "source": [
    "'hi' in 'hit there'"
   ]
  },
  {
   "cell_type": "code",
   "execution_count": 30,
   "id": "ea42c7a2-f2cb-433e-a8e9-e16df36aa899",
   "metadata": {},
   "outputs": [],
   "source": [
    "condition = lambda sentences : 'algorithm' in sentences\n",
    "def condition(item):\n",
    "    return 'algorithm' in sentences"
   ]
  },
  {
   "cell_type": "code",
   "execution_count": 31,
   "id": "7d4e9f1e-ba19-4b9e-81e9-d639e08eccfa",
   "metadata": {},
   "outputs": [
    {
     "data": {
      "text/plain": [
       "[]"
      ]
     },
     "execution_count": 31,
     "metadata": {},
     "output_type": "execute_result"
    }
   ],
   "source": [
    "collect(sentences, condition)"
   ]
  },
  {
   "cell_type": "code",
   "execution_count": 32,
   "id": "90e4ef7a-ef7d-4ba2-aff7-4e9b23a9a390",
   "metadata": {},
   "outputs": [],
   "source": [
    "# What it does: transform all items of a list in some way, using the transformer. \n",
    "# transformer takes and item as input and return a transformed item\n",
    "# How it does: go through each item of the collection, transform the item, save to a list. A the end, return the lis."
   ]
  },
  {
   "cell_type": "code",
   "execution_count": 33,
   "id": "a9647f7a-ae5f-413b-880f-2030d5c5046e",
   "metadata": {},
   "outputs": [],
   "source": [
    "def transform(collection, transformer):\n",
    "    output = []\n",
    "    for item in collection:\n",
    "        output.append(transformer(item))\n",
    "\n",
    "    return output\n",
    "    "
   ]
  },
  {
   "cell_type": "code",
   "execution_count": 34,
   "id": "501a178b-333d-4f35-8fe0-824e9e623454",
   "metadata": {},
   "outputs": [
    {
     "name": "stdout",
     "output_type": "stream",
     "text": [
      "[-24, 63, 29, 55, -50, -61, -5, 95, -59, 38, 99, 35, -100, 53, -18, 25, -96, -72, -8, -22, -39]\n"
     ]
    }
   ],
   "source": [
    "print(numbers)"
   ]
  },
  {
   "cell_type": "code",
   "execution_count": 35,
   "id": "6ea026e0-bca3-4bd3-99ee-9c8219cc7956",
   "metadata": {},
   "outputs": [
    {
     "data": {
      "text/plain": [
       "[-24, -50, -61, -5, -59, -100, -18, -96, -72, -8, -22, -39]"
      ]
     },
     "execution_count": 35,
     "metadata": {},
     "output_type": "execute_result"
    }
   ],
   "source": [
    "negative_numbers = (collect(numbers, lambda n: n < 0))\n",
    "negative_numbers"
   ]
  },
  {
   "cell_type": "code",
   "execution_count": 36,
   "id": "022bfd95-16ed-4f5f-a375-616ed0708545",
   "metadata": {},
   "outputs": [],
   "source": [
    "def square(n):\n",
    "    return n*n"
   ]
  },
  {
   "cell_type": "code",
   "execution_count": 37,
   "id": "0965b9b1-a374-4c17-8a1a-9484938685b2",
   "metadata": {},
   "outputs": [
    {
     "data": {
      "text/plain": [
       "[-48, -100, -122, -10, -118, -200, -36, -192, -144, -16, -44, -78]"
      ]
     },
     "execution_count": 37,
     "metadata": {},
     "output_type": "execute_result"
    }
   ],
   "source": [
    "transform(negative_numbers, lambda n: 2*n)"
   ]
  },
  {
   "cell_type": "code",
   "execution_count": 38,
   "id": "be66c740-4517-46b4-9d11-fc210ff7c24b",
   "metadata": {},
   "outputs": [
    {
     "data": {
      "text/plain": [
       "[True, True, False, False, False, True, True, True, True, True, True, False]"
      ]
     },
     "execution_count": 38,
     "metadata": {},
     "output_type": "execute_result"
    }
   ],
   "source": [
    "transform(negative_numbers, lambda n : n%2==0)"
   ]
  },
  {
   "cell_type": "code",
   "execution_count": null,
   "id": "6d238cc0-8f86-4e8f-8324-190a56f38bad",
   "metadata": {},
   "outputs": [],
   "source": []
  },
  {
   "cell_type": "code",
   "execution_count": null,
   "id": "0ad1dc8a-49b9-452c-a530-f2c81e5eefaf",
   "metadata": {},
   "outputs": [],
   "source": []
  },
  {
   "cell_type": "code",
   "execution_count": 39,
   "id": "f7007c89-1755-47cd-bf97-34a900f46e55",
   "metadata": {},
   "outputs": [],
   "source": [
    "# Exercise1:"
   ]
  },
  {
   "cell_type": "code",
   "execution_count": 40,
   "id": "1f26db1b-ccb2-417a-9891-cc128def2d8b",
   "metadata": {},
   "outputs": [
    {
     "name": "stdout",
     "output_type": "stream",
     "text": [
      "Product(id=1001, name='Smart Headphones', price=2917.41, quantity=20, category='Audio', rating=1.8)\n"
     ]
    }
   ],
   "source": [
    "def collect( items, condition ):\n",
    "    output = []\n",
    "    for item in items:\n",
    "        if condition(item) == True:\n",
    "            output.append(item)\n",
    "    return output\n",
    "    \n",
    "from data_generator import generate_products\n",
    "\n",
    "p = generate_products(10)\n",
    "print(p[1])\n",
    "\n",
    "# Task: collect all products with price more than $1000"
   ]
  },
  {
   "cell_type": "code",
   "execution_count": 41,
   "id": "0562990b-e20b-49f3-9ed3-33a52d9403b1",
   "metadata": {},
   "outputs": [],
   "source": [
    "def more_price(p):\n",
    "    return p.price > 1000"
   ]
  },
  {
   "cell_type": "code",
   "execution_count": 42,
   "id": "5bd5cff3-f505-420e-9e48-a1bcc4be2087",
   "metadata": {},
   "outputs": [
    {
     "ename": "NameError",
     "evalue": "name 'more' is not defined",
     "output_type": "error",
     "traceback": [
      "\u001b[0;31m---------------------------------------------------------------------------\u001b[0m",
      "\u001b[0;31mNameError\u001b[0m                                 Traceback (most recent call last)",
      "Cell \u001b[0;32mIn[42], line 1\u001b[0m\n\u001b[0;32m----> 1\u001b[0m \u001b[38;5;28mprint\u001b[39m(collect(p, \u001b[43mmore\u001b[49m))\n",
      "\u001b[0;31mNameError\u001b[0m: name 'more' is not defined"
     ]
    }
   ],
   "source": [
    "print(collect(p, more))"
   ]
  },
  {
   "cell_type": "code",
   "execution_count": null,
   "id": "fe5bf694-52a9-4e66-88ea-fdbd42a62843",
   "metadata": {},
   "outputs": [],
   "source": []
  },
  {
   "cell_type": "code",
   "execution_count": 43,
   "id": "34a68859-c58c-42f8-b9c8-e89b56773661",
   "metadata": {},
   "outputs": [
    {
     "name": "stdout",
     "output_type": "stream",
     "text": [
      "[Product(id=1000, name='Ultra Laptop', price=2634.79, quantity=133, category='Computers', rating=3.3), Product(id=1001, name='Eco Laptop', price=351.95, quantity=222, category='Audio', rating=3.9), Product(id=1002, name='Smart Watch', price=1830.43, quantity=261, category='Electronics', rating=2.5), Product(id=1003, name='Premium Tablet', price=161.82, quantity=223, category='Electronics', rating=3.1), Product(id=1004, name='Premium Tablet', price=1310.94, quantity=485, category='Audio', rating=3.5), Product(id=1005, name='Pro Camera', price=2703.13, quantity=259, category='Audio', rating=3.7), Product(id=1006, name='Smart Watch', price=2100.7, quantity=283, category='Computers', rating=1.8), Product(id=1007, name='Power Camera', price=2251.95, quantity=89, category='Wearables', rating=3.3), Product(id=1008, name='Power Speaker', price=2506.15, quantity=155, category='Audio', rating=1.8), Product(id=1009, name='Smart Watch', price=1342.09, quantity=345, category='Computers', rating=3.0), Product(id=1010, name='Basic Camera', price=281.83, quantity=263, category='Wearables', rating=2.3), Product(id=1011, name='Premium Camera', price=951.94, quantity=412, category='Computers', rating=1.6), Product(id=1012, name='Ultra Phone', price=2952.28, quantity=312, category='Electronics', rating=2.8), Product(id=1013, name='Premium Camera', price=2098.16, quantity=253, category='Photography', rating=2.0), Product(id=1014, name='Ultra Headphones', price=2585.5, quantity=453, category='Electronics', rating=4.1), Product(id=1015, name='Premium Phone', price=2418.2, quantity=356, category='Wearables', rating=2.9), Product(id=1016, name='Premium Headphones', price=390.43, quantity=68, category='Photography', rating=3.7), Product(id=1017, name='Smart Headphones', price=2677.52, quantity=313, category='Wearables', rating=2.7), Product(id=1018, name='Mini Phone', price=2238.65, quantity=243, category='Photography', rating=2.0), Product(id=1019, name='Premium Headphones', price=1923.84, quantity=392, category='Wearables', rating=2.9)]\n"
     ]
    }
   ],
   "source": [
    "def collect( items, condition ):\n",
    "    output = []\n",
    "    for item in items:\n",
    "        if condition(item) == True:\n",
    "            output.append(item)\n",
    "    return output\n",
    "def transform( collection, transformer ):\n",
    "    output = []\n",
    "    for item in collection:\n",
    "        output.append( transformer(item) )\n",
    "    return output\n",
    "\n",
    "p = generate_products(20)\n",
    "print(p)\n",
    "\n",
    "# Task: get all names and prices of products \"p\" that have quantity at least 150"
   ]
  },
  {
   "cell_type": "code",
   "execution_count": 44,
   "id": "ce0847fd-bf3b-4155-af83-e3f7bc52a3a6",
   "metadata": {},
   "outputs": [],
   "source": [
    "rs = collect(p , lambda x: x.quantity > 150)\n",
    "#bs = collect(names, lambda x: x.quantity > 150)"
   ]
  },
  {
   "cell_type": "code",
   "execution_count": 45,
   "id": "4d2cbc4b-c1ff-4772-af25-387e0b3144d2",
   "metadata": {},
   "outputs": [],
   "source": [
    "#transform(rs, lambda y: y.p)"
   ]
  },
  {
   "cell_type": "code",
   "execution_count": 46,
   "id": "1fb74285-9587-45b6-9f80-f5816eb1ef46",
   "metadata": {},
   "outputs": [],
   "source": [
    "#PID:4"
   ]
  },
  {
   "cell_type": "code",
   "execution_count": 47,
   "id": "0fa3917b-7671-4e89-9458-1e67e6eaeec7",
   "metadata": {},
   "outputs": [],
   "source": [
    "students = [(\"Alice\", 95), (\"Bob\", 75), (\"Charlie\", 67), (\"Eve\", 89)]"
   ]
  },
  {
   "cell_type": "code",
   "execution_count": 48,
   "id": "b17413ca-01ac-4a78-a178-5a35beb6b84e",
   "metadata": {},
   "outputs": [
    {
     "data": {
      "text/plain": [
       "[('Alice', 95), ('Bob', 75), ('Charlie', 67), ('Eve', 89)]"
      ]
     },
     "execution_count": 48,
     "metadata": {},
     "output_type": "execute_result"
    }
   ],
   "source": [
    "students\n"
   ]
  },
  {
   "cell_type": "code",
   "execution_count": 49,
   "id": "a6066816-5b3c-427a-b91d-3072b0b4868f",
   "metadata": {},
   "outputs": [
    {
     "name": "stdout",
     "output_type": "stream",
     "text": [
      "('Alice', 95)\n",
      "('Bob', 75)\n",
      "('Charlie', 67)\n",
      "('Eve', 89)\n"
     ]
    }
   ],
   "source": [
    "for i, b in enumerate(students):\n",
    "    print(b)"
   ]
  },
  {
   "cell_type": "code",
   "execution_count": 50,
   "id": "007b63e8-661b-48ca-acc9-b7ab4d5cdb6b",
   "metadata": {},
   "outputs": [
    {
     "data": {
      "text/plain": [
       "89"
      ]
     },
     "execution_count": 50,
     "metadata": {},
     "output_type": "execute_result"
    }
   ],
   "source": [
    "b[1]"
   ]
  },
  {
   "cell_type": "code",
   "execution_count": 51,
   "id": "34c517f3-dcd4-4bbd-8984-90a7ee3d096f",
   "metadata": {},
   "outputs": [
    {
     "name": "stdout",
     "output_type": "stream",
     "text": [
      "{0: 10, 1: 20, 2: 15, 3: 40, 4: 50, 5: 55, 6: 40, 7: 90}\n"
     ]
    }
   ],
   "source": [
    "numbers = [10, 20, 15, 40, 50, 55, 40, 90]\n",
    "target = 65\n",
    "\n",
    "dct = {}\n",
    "for i in range(len(numbers)):\n",
    "    dct[i] = numbers[i]\n",
    "    \n",
    "print(dct)\n",
    "\n",
    "    "
   ]
  },
  {
   "cell_type": "code",
   "execution_count": 52,
   "id": "dfa52763-f6d3-4af1-87cc-836682571345",
   "metadata": {},
   "outputs": [
    {
     "name": "stdout",
     "output_type": "stream",
     "text": [
      "[Product(id=1005, name='Power Watch', price=47.5, quantity=180, category='Audio', rating=4.0), Product(id=1046, name='Pro Headphones', price=647.12, quantity=108, category='Audio', rating=3.6)]\n",
      "['Power Watch', 'Pro Headphones']\n"
     ]
    }
   ],
   "source": [
    "from data_generator import generate_numbers, generate_students, generate_products, generate_sentences\n",
    "\n",
    "def collect(items, condition):\n",
    "    \"\"\"Collects all items that satisfy the given condition.\"\"\"\n",
    "    output = []\n",
    "    for item in items:\n",
    "        if condition(item) == True:\n",
    "            output.append(item)\n",
    "    return output\n",
    "\n",
    "def transform(collection, transformer):\n",
    "    \"\"\"Transforms all items in the collection using the given transformer function.\"\"\"\n",
    "    output = []\n",
    "    for item in collection:\n",
    "        output.append(transformer(item))\n",
    "    return output\n",
    "\n",
    "'''\n",
    "Task**: Find names of all Audio category products with high ratings.\n",
    "\n",
    "'''\n",
    "products = generate_products(50)\n",
    "#products\n",
    "#print(products[0])\n",
    "selection = collect(products, lambda p: p.category=='Audio' and p.rating > 3)\n",
    "print(selection)\n",
    "selection = transform(selection, lambda p: p.name)\n",
    "print(selection)"
   ]
  },
  {
   "cell_type": "code",
   "execution_count": null,
   "id": "df7cb165-b825-4381-b5fc-71a4ab132cb5",
   "metadata": {},
   "outputs": [],
   "source": []
  },
  {
   "cell_type": "code",
   "execution_count": null,
   "id": "1b256879-1a85-4f81-acc3-55034ff453e6",
   "metadata": {},
   "outputs": [],
   "source": []
  },
  {
   "cell_type": "code",
   "execution_count": 53,
   "id": "8d5fb090-c6cc-4f0a-969b-26421fd8e6a3",
   "metadata": {},
   "outputs": [],
   "source": [
    "#1\n",
    "numbers = generate_numbers(20)"
   ]
  },
  {
   "cell_type": "code",
   "execution_count": 56,
   "id": "9562eda0-d0e8-446d-acce-365656b8c566",
   "metadata": {},
   "outputs": [
    {
     "data": {
      "text/plain": [
       "[Product(id=1000, name='Mini Laptop', price=1422.02, quantity=155, category='Photography', rating=4.8),\n",
       " Product(id=1001, name='Mini Watch', price=268.9, quantity=20, category='Photography', rating=3.9),\n",
       " Product(id=1002, name='Eco Laptop', price=301.23, quantity=492, category='Wearables', rating=3.3),\n",
       " Product(id=1003, name='Ultra Headphones', price=2026.67, quantity=137, category='Wearables', rating=1.2),\n",
       " Product(id=1004, name='Basic Watch', price=1571.31, quantity=226, category='Audio', rating=1.7),\n",
       " Product(id=1005, name='Power Camera', price=2448.3, quantity=496, category='Electronics', rating=2.9),\n",
       " Product(id=1006, name='Power Tablet', price=983.53, quantity=53, category='Computers', rating=2.3),\n",
       " Product(id=1007, name='Mini Tablet', price=1997.86, quantity=205, category='Wearables', rating=1.1),\n",
       " Product(id=1008, name='Pro Tablet', price=779.61, quantity=59, category='Photography', rating=4.5),\n",
       " Product(id=1009, name='Ultra Camera', price=2612.01, quantity=236, category='Photography', rating=1.2)]"
      ]
     },
     "execution_count": 56,
     "metadata": {},
     "output_type": "execute_result"
    }
   ],
   "source": [
    "products = generate_products(10)\n",
    "products\n"
   ]
  },
  {
   "cell_type": "code",
   "execution_count": 58,
   "id": "c702b8ab-74c6-44dd-889f-2c784281abf7",
   "metadata": {},
   "outputs": [
    {
     "data": {
      "text/plain": [
       "{'Photography': 470,\n",
       " 'Wearables': 834,\n",
       " 'Audio': 226,\n",
       " 'Electronics': 496,\n",
       " 'Computers': 53}"
      ]
     },
     "execution_count": 58,
     "metadata": {},
     "output_type": "execute_result"
    }
   ],
   "source": [
    "categories = {}\n",
    "for product in products:\n",
    "    if product.category not in categories:\n",
    "        categories[product.category] = 0\n",
    "    categories[product.category] += product.quantity\n",
    "categories"
   ]
  },
  {
   "cell_type": "code",
   "execution_count": 60,
   "id": "2676fd6f-741c-4646-a885-8bdad4d52bc6",
   "metadata": {},
   "outputs": [
    {
     "data": {
      "text/plain": [
       "3191659.49"
      ]
     },
     "execution_count": 60,
     "metadata": {},
     "output_type": "execute_result"
    }
   ],
   "source": [
    "expensive_items = [p for p in products if p.price > 500]\n",
    "total_value = sum(p.price * p.quantity for p in expensive_items)\n",
    "total_value"
   ]
  },
  {
   "cell_type": "code",
   "execution_count": 64,
   "id": "09b5e56d-8fb6-4d7b-8aa8-2886d4d3b2df",
   "metadata": {},
   "outputs": [
    {
     "data": {
      "text/plain": [
       "[Student(name='Bob Brown', age=20, grade=86.2, major='CS', credits=12),\n",
       " Student(name='Frank Miller', age=18, grade=68.2, major='English', credits=15),\n",
       " Student(name='Charlie Johnson', age=26, grade=73.5, major='Physics', credits=13),\n",
       " Student(name='Charlie Smith', age=24, grade=82.9, major='Biology', credits=15),\n",
       " Student(name='Charlie Johnson', age=25, grade=83.7, major='Art', credits=14),\n",
       " Student(name='Alice Miller', age=25, grade=95.6, major='Physics', credits=12),\n",
       " Student(name='Henry Williams', age=22, grade=83.8, major='History', credits=17),\n",
       " Student(name='Eve Brown', age=22, grade=64.0, major='History', credits=18),\n",
       " Student(name='Henry Smith', age=21, grade=72.2, major='English', credits=16),\n",
       " Student(name='Eve Garcia', age=22, grade=56.0, major='History', credits=14)]"
      ]
     },
     "execution_count": 64,
     "metadata": {},
     "output_type": "execute_result"
    }
   ],
   "source": [
    "students = generate_students(10)\n",
    "students"
   ]
  },
  {
   "cell_type": "code",
   "execution_count": 65,
   "id": "ebe8dcba-6bd6-4158-befd-71a53fb8eea0",
   "metadata": {},
   "outputs": [
    {
     "data": {
      "text/plain": [
       "['Eve Garcia needs help in History']"
      ]
     },
     "execution_count": 65,
     "metadata": {},
     "output_type": "execute_result"
    }
   ],
   "source": [
    "failing_students = collect(students, lambda s: s.grade < 60)\n",
    "remedial_list = transform(failing_students, lambda s: f\"{s.name} needs help in {s.major}\")\n",
    "\n",
    "remedial_list"
   ]
  },
  {
   "cell_type": "code",
   "execution_count": 69,
   "id": "8de0adf1-280e-4152-b533-5628cf8d56eb",
   "metadata": {},
   "outputs": [
    {
     "data": {
      "text/plain": [
       "[23,\n",
       " 91,\n",
       " 19,\n",
       " 93,\n",
       " 73,\n",
       " 85,\n",
       " 72,\n",
       " 1,\n",
       " 42,\n",
       " 1,\n",
       " 37,\n",
       " 16,\n",
       " 72,\n",
       " 91,\n",
       " 72,\n",
       " 49,\n",
       " 63,\n",
       " 72,\n",
       " 20,\n",
       " 58,\n",
       " 43,\n",
       " 56,\n",
       " 65,\n",
       " 62,\n",
       " 18,\n",
       " 79]"
      ]
     },
     "execution_count": 69,
     "metadata": {},
     "output_type": "execute_result"
    }
   ],
   "source": [
    "# Your solution here\n",
    "import math\n",
    "numbers = generate_numbers(50)\n",
    "numbers = collect(numbers, lambda x: x >=1 and x <= 100)\n",
    "numbers\n"
   ]
  },
  {
   "cell_type": "code",
   "execution_count": 71,
   "id": "37b365b5-ea94-445a-a9bb-b1c7defcc66b",
   "metadata": {},
   "outputs": [
    {
     "data": {
      "text/plain": [
       "[[],\n",
       " [],\n",
       " [],\n",
       " [],\n",
       " [],\n",
       " [],\n",
       " [],\n",
       " [1],\n",
       " [],\n",
       " [1],\n",
       " [],\n",
       " [16],\n",
       " [],\n",
       " [],\n",
       " [],\n",
       " [49],\n",
       " [],\n",
       " [],\n",
       " [],\n",
       " [],\n",
       " [],\n",
       " [],\n",
       " [],\n",
       " [],\n",
       " [],\n",
       " []]"
      ]
     },
     "execution_count": 71,
     "metadata": {},
     "output_type": "execute_result"
    }
   ],
   "source": [
    "# Your solution here\n",
    "\n",
    "def perfect_squares(item):\n",
    "    rs = []\n",
    "    if math.sqrt(item).is_integer():\n",
    "        rs.append(item)\n",
    "    return rs\n",
    "    \n",
    "transform(numbers, perfect_squares)"
   ]
  },
  {
   "cell_type": "code",
   "execution_count": 1,
   "id": "44209ecf-a97c-482c-892c-229af7f4b49e",
   "metadata": {},
   "outputs": [],
   "source": [
    "# The running time T(n), we essentially count the number of steps the program takes. \n",
    "# A step may consists of multiple instructions.\n",
    "# One step may take longer to run than another step.\n",
    "# A step (on line 4, for example) should take exactly the same amount of time when it runs. it should no depend on the input.\n",
    "# Here is how we count:"
   ]
  },
  {
   "cell_type": "code",
   "execution_count": 3,
   "id": "dca36ef3-7564-404c-af8e-fed5445ef11f",
   "metadata": {},
   "outputs": [],
   "source": [
    "def mystery(n):        # T(n) steps\n",
    "    count = 0          # 1 step\n",
    "    for i in range(n): # n steps\n",
    "        count += 1     # 1 step\n",
    "    print(count)       # 1 step\n",
    "# T(n) = 1 + n*1 + 1"
   ]
  },
  {
   "cell_type": "code",
   "execution_count": 4,
   "id": "a666cf47-f347-4e84-a142-e30d21f6f67d",
   "metadata": {},
   "outputs": [],
   "source": [
    "def mystery2(N):         # T(n)\n",
    "    rs = []              # 1 step\n",
    "    for x in L:          # n steps (# items in L)\n",
    "        rs.append(x*x)   # 1 step\n",
    "    return output        # 1 step\n",
    "# T(N) = 1 + n*1 + 1 "
   ]
  },
  {
   "cell_type": "code",
   "execution_count": 9,
   "id": "50638fb1-77db-4f97-80e6-03b553858a2a",
   "metadata": {},
   "outputs": [],
   "source": [
    "def mystery2(N):           # T(n)\n",
    "    rs = []                # a step O(1)\n",
    "    for x in L:            # n steps (# items in L) O(n)\n",
    "        for y in x:        # n step O(n)\n",
    "          rs.append(y*y)   # b step O(1)\n",
    "    return output          # c step O(1)\n",
    "# T(N) = 1 + n*n*1 + 1 \n",
    "# T(N) = a + n*n*b +  c\n"
   ]
  },
  {
   "cell_type": "markdown",
   "id": "c8ba48d1-5c3f-44cc-b7f9-10dc1b699418",
   "metadata": {},
   "source": [
    "$T(N) = O(1) + O(n)*O(n)*O(1) + O(1) = O(n^2)$"
   ]
  },
  {
   "cell_type": "code",
   "execution_count": 6,
   "id": "faf656d4-c953-4e97-8dc7-98860e5f095e",
   "metadata": {},
   "outputs": [],
   "source": [
    "# Because a step is not the same(in term of time) as another step, to be more accurate, we will comstants (e.g. a, b, c, ..)\n",
    "# to describe  the steps.\n",
    "# 'a' step is not the same as 'b' steps. But 'a' is a constant number of steps. \n",
    "# The statement takes exactly the same amount of time."
   ]
  },
  {
   "cell_type": "markdown",
   "id": "bcdcd7ae-eeeb-405a-9336-204dddafb331",
   "metadata": {},
   "source": [
    "# Note\n",
    "Complexity is not exact. Often its much easier to estimate than to provide an exact answer. For example, we can\n",
    "quickly say that for triangle sum $T(n) <= a + b + n^2$.\n",
    "\n",
    "```python\n",
    "  t = 0\n",
    "  for i in range(n):\n",
    "      for j in range(i):\n",
    "          t += 1\n",
    "  return t\n",
    "```\n",
    "when we say this: $T(n) <= a + b + n^2$, we are doing an 'upper bound 'estimation.\n",
    "we are saying that the running time equation is at most this many steps: $a + b + n^2$\n",
    "we do have a notation to express this upper bound concept. In this case, we say that $T(n)  E  O(n^2)$"
   ]
  },
  {
   "cell_type": "markdown",
   "id": "3eb89c81-5c72-49c6-8ace-8150c1e2d850",
   "metadata": {},
   "source": [
    "# Big-O\n",
    "This is a tool to measure the upper bound of functions. Not just running, but any function.\n",
    "We can use Big-O to estimate upper bounds of running time or space(RAM) of programs.\n",
    "\n",
    "Formal definition: if we say that $T(n)  E  O(f(n))$. it means $T(n) \\le c * f(n)$ for some number c, and when n is large\n",
    "(i.e exceeding a certain threshold).\n",
    "\n",
    "The function $f(n)$ is the upper bound of the running time function $T(n)$. continue form phone picture."
   ]
  },
  {
   "cell_type": "markdown",
   "id": "61cbd41e-408f-4f0e-80d5-a95f78d9b963",
   "metadata": {},
   "source": [
    "Show that $3n + 5n^2 + 2 \\in O(n^2)$. \n",
    "\n",
    "$3n + 5n^2 + 2 \\le 3n + 5n^2 + 2$\n",
    "\n",
    "$3n + 5n^2 + 2n \\le 3n^2 + 5n^2 + 2n^2 $.  for all $n >= 1$\n",
    "\n",
    "There for $3n + 5n^2 + 2n \\le 10n^2$ and with c = 10. and $3n^2 + 5n^2 + 2n^2 E O(n^2)$"
   ]
  },
  {
   "cell_type": "code",
   "execution_count": null,
   "id": "4ac62223-0560-4cfb-b0a0-6e6118e5fdae",
   "metadata": {},
   "outputs": [],
   "source": []
  }
 ],
 "metadata": {
  "kernelspec": {
   "display_name": "Python 3 (ipykernel)",
   "language": "python",
   "name": "python3"
  },
  "language_info": {
   "codemirror_mode": {
    "name": "ipython",
    "version": 3
   },
   "file_extension": ".py",
   "mimetype": "text/x-python",
   "name": "python",
   "nbconvert_exporter": "python",
   "pygments_lexer": "ipython3",
   "version": "3.13.1"
  }
 },
 "nbformat": 4,
 "nbformat_minor": 5
}
